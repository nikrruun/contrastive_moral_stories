{
 "cells": [
  {
   "cell_type": "markdown",
   "id": "047f67c2-ba69-415e-be50-9655d4cf2784",
   "metadata": {},
   "source": [
    "# Prepare Experiment & Deepspeed config (**MANDATORY**)\n",
    "***"
   ]
  },
  {
   "cell_type": "code",
   "execution_count": null,
   "id": "b6f9ab32-f86e-4830-ac5f-0b9dcd9fceb6",
   "metadata": {
    "tags": [
     "parameters"
    ]
   },
   "outputs": [],
   "source": [
    "ds_config = {\n",
    "    \"fp16\": {\n",
    "        \"enabled\": \"auto\",\n",
    "        \"loss_scale\": 0,\n",
    "        \"loss_scale_window\": 1000,\n",
    "        \"initial_scale_power\": 16,\n",
    "        \"hysteresis\": 2,\n",
    "        \"min_loss_scale\": 1\n",
    "    },\n",
    "    \"optimizer\": {\n",
    "        \"type\": \"AdamW\",\n",
    "        \"params\": {\n",
    "            \"lr\": \"auto\",\n",
    "            \"betas\": \"auto\",\n",
    "            \"eps\": \"auto\",\n",
    "            \"weight_decay\": \"auto\"\n",
    "        }\n",
    "    },\n",
    "\n",
    "    \"zero_optimization\": {\n",
    "        \"stage\": 2,\n",
    "        \"allgather_partitions\": True,\n",
    "        \"allgather_bucket_size\": 5e8,\n",
    "        \"overlap_comm\": True,\n",
    "        \"reduce_scatter\": True,\n",
    "        \"reduce_bucket_size\": 5e8,\n",
    "        \"contiguous_gradients\": True,\n",
    "        \"offload_optimizer\": {\n",
    "            \"device\": \"none\",\n",
    "        },\n",
    "        \"offload_params\": {\n",
    "            \"device\": \"none\"\n",
    "        },\n",
    "    },\n",
    "    \"gradient_accumulation_steps\": \"auto\",\n",
    "    \"gradient_clipping\": \"auto\",\n",
    "    \"steps_per_print\": 200,\n",
    "    \"train_batch_size\": \"auto\",\n",
    "    \"train_micro_batch_size_per_gpu\": \"auto\",\n",
    "    \"wall_clock_breakdown\": False\n",
    "}\n",
    "\n",
    "training_args = {\n",
    "    \"num_train_epochs\": 4,\n",
    "    \"gradient_accumulation_steps\": 1,\n",
    "    \"per_device_train_batch_size\": 128,\n",
    "    \"per_device_eval_batch_size\": 256,\n",
    "    \"fp16\": True,\n",
    "    \"weight_decay\": 0.0,\n",
    "    \"warmup_steps\": 0,\n",
    "    \"learning_rate\": 1e-5,\n",
    "    \"logging_strategy\": \"epoch\",\n",
    "    \"evaluation_strategy\": \"epoch\",\n",
    "    \"save_strategy\": \"epoch\",\n",
    "    \"save_total_limit\": 1,\n",
    "    \"load_best_model_at_end\": True,\n",
    "    \"metric_for_best_model\": \"eval_accuracy\",\n",
    "    \"greater_is_better\": True,\n",
    "}\n",
    "\n",
    "# usually overriden by external config:\n",
    "num_gpus = 1\n",
    "model_name = \"ynie/roberta-large-snli_mnli_fever_anli_R1_R2_R3-nli\"\n",
    "\n",
    "# ynie config: entailment is on 0, neutral on 1 and contrad. on 2\n",
    "# ours is 0: contrad., 1 entail, so we need to map\n",
    "class_map = {0:2, 1:0, 2:1}\n",
    "block_size = 128\n",
    "logdir = \"data/models/textual_entailment/ynie/roberta-large-snli_mnli_fever_anli_R1_R2_R3-nli/\"\n",
    "polarity_model_dir = \"data/models/polarity/bert-base-uncased/bs128_lr_1e-05/\"\n",
    "\n",
    "override_logdir = True"
   ]
  },
  {
   "cell_type": "code",
   "execution_count": null,
   "id": "28b194b8-be8d-44e3-90dc-27f3fe4d05ce",
   "metadata": {},
   "outputs": [],
   "source": [
    "import os\n",
    "os.environ[\"TOKENIZERS_PARALLELISM\"] = \"false\"\n",
    "\n",
    "import numpy as np\n",
    "import pandas as pd\n",
    "from datasets import load_dataset\n",
    "import time\n",
    "from transformers import AutoTokenizer, AutoModelForSequenceClassification\n",
    "import datasets\n",
    "from transformers import Trainer, TrainingArguments"
   ]
  },
  {
   "cell_type": "markdown",
   "id": "6193ccdf-bc57-42e5-9b21-ade4db40bee5",
   "metadata": {},
   "source": [
    "# Tokenize the dataset\n",
    "***"
   ]
  },
  {
   "cell_type": "code",
   "execution_count": null,
   "id": "e2c709d7-c6a8-4ac4-9280-9b3066705abd",
   "metadata": {
    "tags": []
   },
   "outputs": [],
   "source": [
    "if \"Eleuther\" in model_name:\n",
    "    tokenizer = AutoTokenizer.from_pretrained(model_name, bos_token='<|startoftext|>', \n",
    "                                          eos_token='<|endoftext|>', pad_token='<|pad|>')\n",
    "else:\n",
    "    tokenizer = AutoTokenizer.from_pretrained(model_name)"
   ]
  },
  {
   "cell_type": "code",
   "execution_count": null,
   "id": "faaf667f-472b-4027-8781-b030a953c031",
   "metadata": {},
   "outputs": [],
   "source": [
    "def load_social_chem101():\n",
    "    a = pd.read_csv(\"data/social-chem-101/social-chem-101.v1.0.tsv\", sep=\"\\t\")\n",
    "    return a\n",
    "\n",
    "social_chem = load_social_chem101()\n",
    "social_chem = social_chem[social_chem[\"split\"] == \"train\"]\n",
    "social_chem = social_chem.dropna(subset=[\"rot-categorization\", \"rot-judgment\", \"action\", \"rot-agree\", \"action-moral-judgment\"])\n",
    "social_chem = social_chem[social_chem[\"rot-agree\"] >= 3.0]\n",
    "social_chem = social_chem[social_chem[\"rot-bad\"] == 0]\n",
    "social_chem = social_chem[social_chem[\"rot-categorization\"].apply(lambda x: \"morality-ethics\" in x or \"social-norms\" in x)]\n",
    "social_chem = social_chem[social_chem[\"rot-judgment\"].apply(lambda x: \"{\" not in x)]"
   ]
  },
  {
   "cell_type": "code",
   "execution_count": null,
   "id": "7ffca712-77e3-4491-8218-9cd492342c76",
   "metadata": {},
   "outputs": [],
   "source": [
    "# we need the rot-action from social chemistry\n",
    "def to_entailment_task(t):\n",
    "    t = t.merge(social_chem[[\"rot\",\"action\",\"action-moral-judgment\"]], suffixes=(\"\",\"_norm\"), left_on=\"norm\", right_on=\"rot\")\n",
    "    t = t.groupby([\"ID\"]).nth(0)\n",
    "    t[\"polarity\"] = (t[\"action-moral-judgment\"] > 0).astype(\"int\")\n",
    "    t[\"action_polarity\"] = t[\"label\"]\n",
    "    # 1: entailing, 0: contradicting\n",
    "    t[\"label\"] = (t[\"polarity\"] == t[\"action_polarity\"]).astype(\"int\").apply(class_map.get)\n",
    "    return t\n",
    "\n",
    "\n",
    "def load_action_norm_split(path):\n",
    "    train, dev, test = [pd.read_json(f\"{path}{x}.jsonl\", lines=True) for x in [\"train\", \"dev\", \"test\"]]\n",
    "\n",
    "    # construct dataframes that can actually be used\n",
    "    assign_action = lambda x: x[\"moral_action\"] if x[\"label\"] == 1 else x[\"immoral_action\"]\n",
    "    train[\"action\"] = train.apply(assign_action, axis=1)\n",
    "    dev[\"action\"] = dev.apply(assign_action, axis=1)\n",
    "    test[\"action\"] = test.apply(assign_action, axis=1)\n",
    "    return train, dev, test\n",
    "\n",
    "# used for testing\n",
    "train, dev, test = load_action_norm_split(\"data/contrastive_moral_stories/original_ms/action+norm/norm_distance/\")\n",
    "opt_train, opt_dev, opt_test = load_action_norm_split(\"data/contrastive_moral_stories/optional_ms/action+norm/norm_distance/\")\n",
    "anti_train, anti_dev, anti_test = load_action_norm_split(\"data/contrastive_moral_stories/anti_ms/action+norm/norm_distance/\")\n",
    "#contra_train, contra_dev, contra_test = load_action_norm_split(\"data/contrastive_moral_stories/contra_ms/action+norm/norm_distance/\")"
   ]
  },
  {
   "cell_type": "code",
   "execution_count": null,
   "id": "e06639d2-a9e9-4ab6-9c2a-e07970d44dc6",
   "metadata": {},
   "outputs": [],
   "source": [
    "train_te, dev_te, test_te = [to_entailment_task(x) for x in [train, dev, test]]"
   ]
  },
  {
   "cell_type": "markdown",
   "id": "39af9bc4-af31-43d7-803f-003863dddbeb",
   "metadata": {},
   "source": [
    "# Train model\n",
    "***"
   ]
  },
  {
   "cell_type": "code",
   "execution_count": null,
   "id": "dbbc6395-11ae-4872-9b01-e0d208d11520",
   "metadata": {},
   "outputs": [],
   "source": [
    "dataset = datasets.DatasetDict()\n",
    "dataset[\"train\"] = datasets.Dataset.from_pandas(train_te).shuffle()\n",
    "dataset[\"dev\"] = datasets.Dataset.from_pandas(dev_te)\n",
    "dataset[\"test\"] = datasets.Dataset.from_pandas(test_te)"
   ]
  },
  {
   "cell_type": "code",
   "execution_count": null,
   "id": "3119c029-6f78-4b9e-bf5d-7a2e722232f3",
   "metadata": {},
   "outputs": [],
   "source": [
    "def tokenize(samples):\n",
    "    return tokenizer(samples[\"action\"],samples[\"action_norm\"], truncation=True, padding=\"max_length\", max_length=block_size)\n",
    "\n",
    "tokenized_data = dataset.map(tokenize, batched=True, batch_size=10000)"
   ]
  },
  {
   "cell_type": "markdown",
   "id": "52a8cb7c-de02-4e36-bd84-d422d42dce04",
   "metadata": {},
   "source": [
    "# Load the model"
   ]
  },
  {
   "cell_type": "code",
   "execution_count": null,
   "id": "d9963960-f5f4-46c1-852c-3cec290c2a98",
   "metadata": {},
   "outputs": [],
   "source": [
    "model = AutoModelForSequenceClassification.from_pretrained(model_name)\n",
    "\n",
    "model.resize_token_embeddings(len(tokenizer))\n",
    "\n",
    "if model.config.pad_token_id is None:\n",
    "    model.config.pad_token_id = tokenizer.pad_token_id"
   ]
  },
  {
   "cell_type": "markdown",
   "id": "cc523063-8995-46bc-bfe1-69fd8defb637",
   "metadata": {},
   "source": [
    "# Prepare Trainer\n",
    "***"
   ]
  },
  {
   "cell_type": "code",
   "execution_count": null,
   "id": "d20433c0-600e-4f92-8a17-2daac9946753",
   "metadata": {},
   "outputs": [],
   "source": [
    "# TODO: move down to training section\n",
    "training_args = TrainingArguments(\n",
    "    output_dir=logdir,\n",
    "    overwrite_output_dir=override_logdir,\n",
    "    logging_dir=logdir,\n",
    "    #deepspeed= logdir + \"/ds_config.json\",\n",
    "    report_to=\"tensorboard\",\n",
    "    **training_args\n",
    ")"
   ]
  },
  {
   "cell_type": "code",
   "execution_count": null,
   "id": "978849a5-1ba8-4833-9130-383f4a2efc98",
   "metadata": {},
   "outputs": [],
   "source": [
    "from datasets import load_metric\n",
    "metric = load_metric('accuracy')\n",
    "\n",
    "def compute_metrics(eval_pred):\n",
    "    predictions, labels = eval_pred\n",
    "    #print(predictions)\n",
    "    y = [class_map[x] for x in predictions[:,0] > predictions[:,2]]\n",
    "    return metric.compute(predictions=y, references=labels)"
   ]
  },
  {
   "cell_type": "code",
   "execution_count": null,
   "id": "d0c051ce-e7af-4001-be2e-37da8d3b4acc",
   "metadata": {},
   "outputs": [],
   "source": [
    "trainer = Trainer(\n",
    "    model=model,\n",
    "    args=training_args,\n",
    "    train_dataset=tokenized_data[\"train\"],\n",
    "    eval_dataset=tokenized_data[\"dev\"],\n",
    "    compute_metrics=compute_metrics,\n",
    ")"
   ]
  },
  {
   "cell_type": "code",
   "execution_count": null,
   "id": "14726d22-9971-4417-8b4e-e8fe13155651",
   "metadata": {},
   "outputs": [],
   "source": [
    "r = trainer.predict(tokenized_data[\"test\"])\n",
    "y_pred_no_ft = np.array([x for x in r.predictions[:,0] > r.predictions[:,2]], \"int\")\n",
    "test_te[\"te_pred_no_ft\"] = y_pred_no_ft"
   ]
  },
  {
   "cell_type": "code",
   "execution_count": null,
   "id": "f9e31999-8117-4d12-818c-d45cbdaa4344",
   "metadata": {},
   "outputs": [],
   "source": [
    "trainer.train()"
   ]
  },
  {
   "cell_type": "code",
   "execution_count": null,
   "id": "e65dc7bd-74ed-411a-b095-e9d12dd6f58e",
   "metadata": {},
   "outputs": [],
   "source": [
    "r = trainer.predict(tokenized_data[\"test\"])\n",
    "y_pred_ft = np.array([x for x in r.predictions[:,0] > r.predictions[:,2]], \"int\")\n",
    "test_te[\"te_pred_ft\"] = y_pred_ft"
   ]
  },
  {
   "cell_type": "code",
   "execution_count": null,
   "id": "2593e1b3-2073-4592-a26e-9fbdf3b02229",
   "metadata": {},
   "outputs": [],
   "source": [
    "# save the predictions in model dir\n",
    "test_te.to_csv(logdir + \"original_ms_te_applied.csv\")"
   ]
  },
  {
   "cell_type": "code",
   "execution_count": null,
   "id": "71b053bb-29a7-4b97-8324-74e8396e3c7e",
   "metadata": {},
   "outputs": [],
   "source": []
  }
 ],
 "metadata": {
  "kernelspec": {
   "display_name": "Python 3 (ipykernel)",
   "language": "python",
   "name": "python3"
  },
  "language_info": {
   "codemirror_mode": {
    "name": "ipython",
    "version": 3
   },
   "file_extension": ".py",
   "mimetype": "text/x-python",
   "name": "python",
   "nbconvert_exporter": "python",
   "pygments_lexer": "ipython3",
   "version": "3.9.13"
  }
 },
 "nbformat": 4,
 "nbformat_minor": 5
}
