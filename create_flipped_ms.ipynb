{
 "cells": [
  {
   "cell_type": "markdown",
   "id": "ff2a57b6-2a29-4e5b-ae74-662896fc94f9",
   "metadata": {},
   "source": [
    "# Flipping the whole Moral Stories dataset\n",
    "***"
   ]
  },
  {
   "cell_type": "code",
   "execution_count": 2,
   "id": "21a16dc3-ca96-4dd5-ae97-c63c32568299",
   "metadata": {},
   "outputs": [
    {
     "name": "stdout",
     "output_type": "stream",
     "text": [
      "103520\n"
     ]
    }
   ],
   "source": [
    "import pandas as pd\n",
    "import numpy as np\n",
    "from tqdm import tqdm\n",
    "\n",
    "pd.set_option('display.max_colwidth', 400)\n",
    "\n",
    "import os\n",
    "\n",
    "def save_splits(dataframe, folder):\n",
    "    g = dataframe.groupby(\"split\")\n",
    "    train = g.get_group(\"train\")\n",
    "    dev = g.get_group(\"dev\")\n",
    "    test = g.get_group(\"test\")\n",
    "    os.makedirs(folder, exist_ok=True)\n",
    "\n",
    "    with open(folder+\"train.jsonl\", \"w\") as f:\n",
    "        f.write(train.to_json(orient=\"records\", lines=True))\n",
    "\n",
    "    with open(folder+\"dev.jsonl\", \"w\") as f:\n",
    "        f.write(dev.to_json(orient=\"records\", lines=True))\n",
    "\n",
    "    with open(folder+\"test.jsonl\", \"w\") as f:\n",
    "        f.write(test.to_json(orient=\"records\", lines=True))\n",
    "\n",
    "\n",
    "def load_action_norm_split(path):\n",
    "    train, dev, test = [pd.read_json(f\"{path}{x}.jsonl\", lines=True) for x in [\"train\", \"dev\", \"test\"]]\n",
    "    train[\"split\"] = \"train\"\n",
    "    dev[\"split\"] = \"dev\"\n",
    "    test[\"split\"] = \"test\"\n",
    "    return train, dev, test\n",
    "\n",
    "def load_social_chem101():\n",
    "    a = pd.read_csv(\"data/social-chem-101/social-chem-101.v1.0.tsv\", sep=\"\\t\")\n",
    "    return a\n",
    "\n",
    "train, dev, test = load_action_norm_split(\"data/contrastive_moral_stories/original_ms/action+norm/norm_distance/\")\n",
    "moral_stories = pd.concat([train, dev, test])\n",
    "social_chem = load_social_chem101()\n",
    "social_chem = social_chem[social_chem[\"split\"] == \"train\"]\n",
    "social_chem = social_chem.dropna(subset=[\"rot-categorization\", \"rot-judgment\", \"action\", \"rot-agree\", \"action-moral-judgment\"])\n",
    "social_chem = social_chem[social_chem[\"rot-agree\"] >= 3.0]\n",
    "social_chem = social_chem[social_chem[\"rot-bad\"] == 0]\n",
    "social_chem = social_chem[social_chem[\"rot-categorization\"].apply(lambda x: \"morality-ethics\" in x or \"social-norms\" in x)]\n",
    "social_chem = social_chem[social_chem[\"rot-judgment\"].apply(lambda x: \"{\" not in x)]\n",
    "print(len(social_chem))"
   ]
  },
  {
   "cell_type": "code",
   "execution_count": 3,
   "id": "b6fa383a-2e1e-4b3d-890e-0239cb3ea6de",
   "metadata": {},
   "outputs": [
    {
     "name": "stdout",
     "output_type": "stream",
     "text": [
      "After joining, we retain 11986 norms from Moral Stories (12000)\n"
     ]
    },
    {
     "data": {
      "text/html": [
       "<div>\n",
       "<style scoped>\n",
       "    .dataframe tbody tr th:only-of-type {\n",
       "        vertical-align: middle;\n",
       "    }\n",
       "\n",
       "    .dataframe tbody tr th {\n",
       "        vertical-align: top;\n",
       "    }\n",
       "\n",
       "    .dataframe thead th {\n",
       "        text-align: right;\n",
       "    }\n",
       "</style>\n",
       "<table border=\"1\" class=\"dataframe\">\n",
       "  <thead>\n",
       "    <tr style=\"text-align: right;\">\n",
       "      <th></th>\n",
       "      <th>norm</th>\n",
       "      <th>rot</th>\n",
       "      <th>rot-judgment</th>\n",
       "      <th>rot-action</th>\n",
       "      <th>action-moral-judgment</th>\n",
       "    </tr>\n",
       "  </thead>\n",
       "  <tbody>\n",
       "    <tr>\n",
       "      <th>0</th>\n",
       "      <td>It is good to earn income to support your family</td>\n",
       "      <td>It is good to earn income to support your family</td>\n",
       "      <td>It is good</td>\n",
       "      <td>earning income to support your family</td>\n",
       "      <td>1.0</td>\n",
       "    </tr>\n",
       "    <tr>\n",
       "      <th>1</th>\n",
       "      <td>It's good to help out your family with the laundry.</td>\n",
       "      <td>It's good to help out your family with the laundry.</td>\n",
       "      <td>It's good</td>\n",
       "      <td>helping out your family with the laundry.</td>\n",
       "      <td>1.0</td>\n",
       "    </tr>\n",
       "    <tr>\n",
       "      <th>2</th>\n",
       "      <td>You should help out kids who have abusive parents.</td>\n",
       "      <td>You should help out kids who have abusive parents.</td>\n",
       "      <td>should</td>\n",
       "      <td>helping out kids who have abusive parents.</td>\n",
       "      <td>1.0</td>\n",
       "    </tr>\n",
       "    <tr>\n",
       "      <th>3</th>\n",
       "      <td>It's bad to draw on walls with crayons.</td>\n",
       "      <td>It's bad to draw on walls with crayons.</td>\n",
       "      <td>It's bad</td>\n",
       "      <td>drawing on walls with crayons.</td>\n",
       "      <td>-1.0</td>\n",
       "    </tr>\n",
       "    <tr>\n",
       "      <th>4</th>\n",
       "      <td>It is bad to sleep in a public bathroom.</td>\n",
       "      <td>It is bad to sleep in a public bathroom.</td>\n",
       "      <td>it's bad</td>\n",
       "      <td>sleeping in a public bathroom</td>\n",
       "      <td>-1.0</td>\n",
       "    </tr>\n",
       "  </tbody>\n",
       "</table>\n",
       "</div>"
      ],
      "text/plain": [
       "                                                  norm  \\\n",
       "0     It is good to earn income to support your family   \n",
       "1  It's good to help out your family with the laundry.   \n",
       "2   You should help out kids who have abusive parents.   \n",
       "3              It's bad to draw on walls with crayons.   \n",
       "4             It is bad to sleep in a public bathroom.   \n",
       "\n",
       "                                                   rot rot-judgment  \\\n",
       "0     It is good to earn income to support your family   It is good   \n",
       "1  It's good to help out your family with the laundry.    It's good   \n",
       "2   You should help out kids who have abusive parents.       should   \n",
       "3              It's bad to draw on walls with crayons.     It's bad   \n",
       "4             It is bad to sleep in a public bathroom.     it's bad   \n",
       "\n",
       "                                   rot-action  action-moral-judgment  \n",
       "0       earning income to support your family                    1.0  \n",
       "1   helping out your family with the laundry.                    1.0  \n",
       "2  helping out kids who have abusive parents.                    1.0  \n",
       "3              drawing on walls with crayons.                   -1.0  \n",
       "4               sleeping in a public bathroom                   -1.0  "
      ]
     },
     "execution_count": 3,
     "metadata": {},
     "output_type": "execute_result"
    }
   ],
   "source": [
    "norms = moral_stories[[\"norm\"]].drop_duplicates()\n",
    "\n",
    "mssc = norms.merge(social_chem[[\"rot\", \"rot-judgment\", \"action\", \"action-moral-judgment\"]], left_on=\"norm\", right_on=\"rot\")\n",
    "print(\"After joining, we retain\", len(mssc[\"norm\"].unique()), f\"norms from Moral Stories ({len(norms)})\")\n",
    "groups = mssc.groupby(\"norm\", as_index=False)\n",
    "# some norms have multiple join partners, we take the first occurences\n",
    "mssc = groups.nth(0)\n",
    "mssc = mssc.rename(columns={\"action\":\"rot-action\"})\n",
    "mssc.head(5)"
   ]
  },
  {
   "cell_type": "markdown",
   "id": "063eedb3-b510-43ed-a939-972c941f081f",
   "metadata": {},
   "source": [
    "# Creating optional norms\n",
    "***\n",
    "Deontic logic dictates that opposites of obligatory (impermissible) norms are omissible (permissible) instead of impermissible (obligatory).\n",
    "Since the permissible operator can be expressed as obligatory OR optional, we derive two statements per norm:\n",
    "* Original, impermissible: \"You must not kill\"\n",
    "* Optional: \"You may kill\"\n",
    "* Obligatory: \"You must kill\"\n",
    "\n",
    "And for obligatory statements:\n",
    "* Obligatory: \"You should be nice to people\"\n",
    "* Optional: \"It is okay not to be nice to people\"\n",
    "* Impermissible: \"You should not be nice to people\"\n",
    "\n",
    "For this purpose, we gather textual human judgments representing the respective operator:\n",
    "* Obligatory: \"You have to\", \"It is good\", \"It is necessary\"\n",
    "* Optional: \"You may\", \"It is okay to\", \"It is acceptable to\"\n",
    "* Impermissible: \"You should not\", \"It is bad\", \"It is inacceptable\"\n",
    "\n",
    "The judgments are extracted from Social Chemistry 101 where human raters were tasked to judge the severeness of normative or norm-divergent actions w.r.t. a norm. E.g.\n",
    "* \"It is bad to\" --> -2 (very bad), -1 (bad)\n",
    "* \"You should\" --> 2 (very good), 1 (good)\n",
    "* \"It is acceptable to\" --> 0 (okay)"
   ]
  },
  {
   "cell_type": "code",
   "execution_count": 4,
   "id": "8b5bff87-d9a6-4958-919b-649322768219",
   "metadata": {},
   "outputs": [
    {
     "name": "stdout",
     "output_type": "stream",
     "text": [
      "Found 447 unique optional judgments\n"
     ]
    }
   ],
   "source": [
    "# create csvs of candidates for optionality!\n",
    "optional_sc101 = social_chem[social_chem[\"action-moral-judgment\"] == 0]\n",
    "optional_sc101 = optional_sc101[optional_sc101[\"rot-agree\"] >= 4.0]\n",
    "#optional_sc101 = optional_sc101[[\"rot\", \"rot-judgment\", \"action\", \"action-moral-judgment\"]]\n",
    "optional_sc101[\"stripped\"] = optional_sc101[\"rot-judgment\"].apply(lambda x: x.lower().removeprefix(\"it's\").removeprefix(\"it is\").removeprefix(\"is\").strip())\n",
    "unique_optional = optional_sc101.drop_duplicates(\"stripped\")\n",
    "print(\"Found\", len(unique_optional), \"unique optional judgments\")\n",
    "unique_optional[\"stripped\"].to_csv(\"data/operator_mappings/optional_candidates.csv\")\n",
    "#unique_optional[\"stripped\"].to_list()"
   ]
  },
  {
   "cell_type": "code",
   "execution_count": 5,
   "id": "73cab0cb-1a1b-4197-aee4-a73e69687c31",
   "metadata": {},
   "outputs": [
    {
     "name": "stdout",
     "output_type": "stream",
     "text": [
      "Found 17262 non-unique impermissible judgments\n",
      "Found 8358 non-unique obligatories judgments\n",
      "Found 3288 non-unique optional judgments\n"
     ]
    }
   ],
   "source": [
    "impermissible_sc101 = social_chem[social_chem[\"action-moral-judgment\"] < 0]\n",
    "impermissible_sc101 = impermissible_sc101[impermissible_sc101[\"rot-agree\"] >= 4.0]\n",
    "impermissibles = impermissible_sc101[\"rot-judgment\"]\n",
    "print(\"Found\", len(impermissibles), \"non-unique impermissible judgments\")\n",
    "\n",
    "obligatory_sc101 = social_chem[social_chem[\"action-moral-judgment\"] > 0]\n",
    "obligatory_sc101 = obligatory_sc101[obligatory_sc101[\"rot-agree\"] >= 4.0]\n",
    "obligatories = obligatory_sc101[\"rot-judgment\"]\n",
    "print(\"Found\", len(obligatories), \"non-unique obligatories judgments\")\n",
    "\n",
    "# read in optionals after human extraction\n",
    "optionals = pd.read_csv(\"data/operator_mappings/optional_rated.csv\", delimiter=\";\").dropna()\n",
    "optionals = optionals.set_index(\"index\").merge(optional_sc101, left_on=\"rot-judgment\", right_on=\"stripped\", suffixes=(\"_new\",\"_old\"))[\"rot-judgment_old\"]\n",
    "optionals.name = \"rot-judgment\"\n",
    "print(\"Found\", len(optionals), \"non-unique optional judgments\")\n",
    "\n",
    "# filter out non used optionals\n",
    "t = set(optionals)\n",
    "optional_sc101 = optional_sc101[optional_sc101[\"rot-judgment\"].apply(lambda x: x in t)]"
   ]
  },
  {
   "cell_type": "code",
   "execution_count": 6,
   "id": "e1e8a1a5-c0ef-43e1-83b1-6b1d2e2abb78",
   "metadata": {},
   "outputs": [],
   "source": [
    "# save to file\n",
    "impermissible_sc101.to_csv(\"data/operator_mappings/impermissible_sc101.csv\", index=False)\n",
    "obligatory_sc101.to_csv(\"data/operator_mappings/obligatory_sc101.csv\", index=False)\n",
    "optional_sc101.to_csv(\"data/operator_mappings/optional_sc101.csv\", index=False)"
   ]
  },
  {
   "cell_type": "code",
   "execution_count": 7,
   "id": "1e613196-3c8e-42a2-aabc-6cde922e01f8",
   "metadata": {},
   "outputs": [
    {
     "name": "stdout",
     "output_type": "stream",
     "text": [
      "Found 1181 unique impermissible judgments\n",
      "Found 497 unique obligatory judgments\n",
      "Found 51 unique optional judgments\n"
     ]
    }
   ],
   "source": [
    "print(f\"Found {len(impermissibles.unique())} unique impermissible judgments\")\n",
    "print(f\"Found {len(obligatories.unique())} unique obligatory judgments\")\n",
    "print(f\"Found {len(optionals.unique())} unique optional judgments\")"
   ]
  },
  {
   "cell_type": "markdown",
   "id": "8a1e956a-8aec-47ad-83d2-1d71c77c297e",
   "metadata": {
    "tags": []
   },
   "source": [
    "### Flipping the judgment part into non-optional statements\n",
    "***"
   ]
  },
  {
   "cell_type": "code",
   "execution_count": 8,
   "id": "07c18182-8f96-4699-ae8c-ab83ab060651",
   "metadata": {},
   "outputs": [],
   "source": [
    "def flip_non_optional(row):\n",
    "    # create non-optional norm from non-optionals\n",
    "    if row[\"action-moral-judgment\"] < 0:\n",
    "        # we're impermissible, choose from permissibles\n",
    "        return obligatories.sample(1).iloc[0]\n",
    "    elif row[\"action-moral-judgment\"] > 0:\n",
    "        # we're obligatory, choose from impermissibles\n",
    "        return impermissibles.sample(1).iloc[0]\n",
    "    else:\n",
    "        raise ValueError(\"Cannot flip optional judgments. Use 'flip_optional' instead\")\n",
    "\n",
    "non_optional_flipped = mssc.copy()\n",
    "non_optional_flipped[\"flipped-rot-judgment\"] = mssc.apply(flip_non_optional,axis=1)"
   ]
  },
  {
   "cell_type": "code",
   "execution_count": 9,
   "id": "a6c16e0b-86e4-4219-80fa-1a06919d1745",
   "metadata": {},
   "outputs": [],
   "source": [
    "def flip_optional(row):\n",
    "    # create an optional norm from a non-optional\n",
    "    return optionals.sample(1).iloc[0]\n",
    "\n",
    "optional_flipped = mssc.copy()\n",
    "optional_flipped[\"flipped-rot-judgment\"] = optionals.sample(len(mssc), replace=True, ignore_index=True).to_list()"
   ]
  },
  {
   "cell_type": "markdown",
   "id": "fc01b3a3-1e72-4afc-b2a5-6de9b8f9fdd7",
   "metadata": {},
   "source": [
    "## Generating ROTs\n",
    "***\n",
    "Using the rot-generator models!"
   ]
  },
  {
   "cell_type": "code",
   "execution_count": 9,
   "id": "9d01dd13-5ae8-4dfc-a378-6f20e5d9c3a4",
   "metadata": {},
   "outputs": [],
   "source": [
    "import numpy as np\n",
    "import pandas as pd\n",
    "from datasets import load_dataset\n",
    "import time\n",
    "from transformers import AutoTokenizer, AutoModelForSeq2SeqLM\n",
    "import datasets\n",
    "from tqdm import tqdm\n",
    "import nltk\n",
    "\n",
    "model_name = \"data/models/rot-generator/facebook/bart-large/bs16_lr_3e-05/checkpoint-30850/\"\n",
    "block_size = 128\n",
    "\n",
    "tokenizer = AutoTokenizer.from_pretrained(model_name, model_max_length=block_size)\n",
    "model = AutoModelForSeq2SeqLM.from_pretrained(model_name).cuda()"
   ]
  },
  {
   "cell_type": "code",
   "execution_count": 10,
   "id": "39e7852d-695b-49de-a895-bbdd782c0c7b",
   "metadata": {},
   "outputs": [],
   "source": [
    "import torch\n",
    "torch.manual_seed(42)\n",
    "\n",
    "def flip_rot(sample):\n",
    "    x = tokenizer(sample[\"flipped-rot-judgment\"].to_list(), sample[\"rot-action\"].to_list(), \n",
    "                  padding=True, return_tensors=\"pt\")\n",
    "    x = {k:v.cuda() for k,v in x.items()}\n",
    "    y = model.generate(**x, min_length=1, max_length=128, top_p=0.95, top_k=50, num_beams=10, temperature=1)\n",
    "    return tokenizer.batch_decode(y, skip_special_tokens=True)"
   ]
  },
  {
   "cell_type": "code",
   "execution_count": 11,
   "id": "695c167c-132e-4e4b-abd1-38ad307f35aa",
   "metadata": {},
   "outputs": [
    {
     "name": "stderr",
     "output_type": "stream",
     "text": [
      "  0%|          | 0/375 [00:00<?, ?it/s]2022-06-23 00:08:40.993571: I tensorflow/core/util/util.cc:169] oneDNN custom operations are on. You may see slightly different numerical results due to floating-point round-off errors from different computation orders. To turn them off, set the environment variable `TF_ENABLE_ONEDNN_OPTS=0`.\n",
      "100%|██████████| 375/375 [06:19<00:00,  1.01s/it]\n"
     ]
    }
   ],
   "source": [
    "# derive optional norms\n",
    "\n",
    "# batch_size 100 requires ~35gb of vram on a single gpu\n",
    "optional_rots = []\n",
    "batch_size = 32\n",
    "for i in tqdm(range(0, len(optional_flipped), batch_size)):\n",
    "    optional_rots += flip_rot(optional_flipped.iloc[i:i+batch_size])\n",
    "\n",
    "optional_flipped[\"flipped-rot\"] = optional_rots"
   ]
  },
  {
   "cell_type": "code",
   "execution_count": 12,
   "id": "739382a2-881e-4b69-a92f-95cc2f00e18f",
   "metadata": {},
   "outputs": [
    {
     "name": "stderr",
     "output_type": "stream",
     "text": [
      "100%|██████████| 375/375 [06:33<00:00,  1.05s/it]\n"
     ]
    }
   ],
   "source": [
    "# derive non optional norms\n",
    "\n",
    "non_optional_rots = []\n",
    "for i in tqdm(range(0, len(non_optional_flipped), batch_size)):\n",
    "    non_optional_rots += flip_rot(non_optional_flipped.iloc[i:i+batch_size])\n",
    "\n",
    "non_optional_flipped[\"flipped-rot\"] = non_optional_rots"
   ]
  },
  {
   "cell_type": "markdown",
   "id": "98268a98-4f07-499a-9259-84b1cf133276",
   "metadata": {},
   "source": [
    "# Saving to disk\n",
    "***"
   ]
  },
  {
   "cell_type": "code",
   "execution_count": 13,
   "id": "ba53a97e-9d5b-4b5d-b226-14445252d388",
   "metadata": {},
   "outputs": [],
   "source": [
    "anti_ms = non_optional_flipped.merge(moral_stories)\n",
    "# swap moral and immoral actions\n",
    "anti_ms = anti_ms.rename(columns={\"moral_action\":\"immoral_action\", \n",
    "                                    \"immoral_action\":\"moral_action\",\n",
    "                                    \"norm\": \"flipped-rot\",\n",
    "                                    \"flipped-rot\": \"norm\",\n",
    "})\n",
    "# flip labels\n",
    "anti_ms[\"label\"] = anti_ms[\"label\"].apply(lambda x: int(not x))\n",
    "save_splits(anti_ms.drop([\"flipped-rot\", \"rot\"], axis=1), \"data/contrastive_moral_stories/anti_ms_splits_only/action+norm/norm_distance/\")"
   ]
  },
  {
   "cell_type": "code",
   "execution_count": 18,
   "id": "755678b0-3a30-4b71-9245-7f56aaa56c8e",
   "metadata": {},
   "outputs": [],
   "source": [
    "# how do we save the optional norms?\n",
    "# technically, they only have one label as everything is moral w.r.t. to an optional norm...\n",
    "# but: there only is one column for moral actions, what do we do?\n",
    "# but but: original moral stories has two rows per norm anyway: one per each action with the missing one replaced by NaN\n",
    "# proposal: we do the same, but just have only moral actions to contain non NaN entries\n",
    "opt_flip_ms = optional_flipped.merge(moral_stories)\n",
    "opt_flip_ms[\"moral_action\"] = opt_flip_ms.apply(lambda x: x[\"immoral_action\"] if pd.isna(x[\"moral_action\"]) else x[\"moral_action\"], axis=1)\n",
    "opt_flip_ms[\"immoral_action\"] = np.NaN\n",
    "opt_flip_ms[\"label\"] = 1\n",
    "opt_flip_ms[\"norm\"] = opt_flip_ms[\"flipped-rot\"]\n",
    "opt_flip_ms = opt_flip_ms[moral_stories.columns]\n",
    "save_splits(opt_flip_ms[moral_stories.columns], \"data/contrastive_moral_stories/optional_ms/action+norm/norm_distance/\")"
   ]
  },
  {
   "cell_type": "code",
   "execution_count": 19,
   "id": "1a37bb92-3690-4e83-9c93-ad68979ff78d",
   "metadata": {},
   "outputs": [],
   "source": [
    "# saving the non-optional is straightforward: simply flip the labels.\n",
    "anti_ms = non_optional_flipped.merge(moral_stories)\n",
    "# swap moral and immoral actions\n",
    "anti_ms = anti_ms.rename(columns={\"moral_action\":\"immoral_action\", \n",
    "                                    \"immoral_action\":\"moral_action\",\n",
    "                                    \"norm\": \"flipped-rot\",\n",
    "                                    \"flipped-rot\": \"norm\",\n",
    "})\n",
    "# flip labels\n",
    "anti_ms[\"label\"] = anti_ms[\"label\"].apply(lambda x: int(not x))\n",
    "save_splits(anti_ms, \"data/contrastive_moral_stories/anti_ms_splits_only/action+norm/norm_distance/\")\n",
    "anti_ms = anti_ms[moral_stories.columns]\n",
    "save_splits(anti_ms[moral_stories.columns], \"data/contrastive_moral_stories/anti_ms/action+norm/norm_distance/\")"
   ]
  },
  {
   "cell_type": "markdown",
   "id": "be0b693e-f61c-4a1d-8afe-8cf8fd213ae7",
   "metadata": {},
   "source": [
    "# Create contrastive/contradictory/paradox split\n",
    "***\n",
    "...by stacking moral stories + optional norms + non optional flips!"
   ]
  },
  {
   "cell_type": "code",
   "execution_count": 10,
   "id": "9eb18643-3a1a-47da-b324-6cb821bc5382",
   "metadata": {},
   "outputs": [],
   "source": [
    "train, dev, test = load_action_norm_split(\"data/contrastive_moral_stories/original_ms/action+norm/norm_distance/\")\n",
    "opt_train, opt_dev, opt_test = load_action_norm_split(\"data/contrastive_moral_stories/optional_ms/action+norm/norm_distance/\")\n",
    "non_opt_train, non_opt_dev, non_opt_test = load_action_norm_split(\"data/contrastive_moral_stories/anti_ms/action+norm/norm_distance/\")\n",
    "\n",
    "\n",
    "contra_train = pd.concat([train, opt_train, non_opt_train])\n",
    "contra_dev = pd.concat([dev, opt_dev, non_opt_dev])\n",
    "contra_test = pd.concat([test, opt_test, non_opt_test])\n",
    "contra_ms = pd.concat([contra_train, contra_dev, contra_test])\n",
    "\n",
    "folder = \"data/contrastive_moral_stories/contra_ms/action+norm/norm_distance/\"\n",
    "save_splits(contra_ms[moral_stories.columns], folder)"
   ]
  },
  {
   "cell_type": "markdown",
   "id": "ae500543-315a-4e32-93bb-de1c5dbf0b97",
   "metadata": {},
   "source": [
    "# Create sample of flipped norms for crowd labeling\n",
    "***"
   ]
  },
  {
   "cell_type": "code",
   "execution_count": 22,
   "id": "bc5c0873-88c1-4c6b-bc1e-ebc3790eea5f",
   "metadata": {},
   "outputs": [],
   "source": [
    "n = 500\n",
    "train, dev, test = load_action_norm_split(\"data/contrastive_moral_stories/original_ms/action+norm/norm_distance/\")\n",
    "opt_train, opt_dev, opt_test = load_action_norm_split(\"data/contrastive_moral_stories/optional_ms/action+norm/norm_distance/\")\n",
    "non_opt_train, non_opt_dev, non_opt_test = load_action_norm_split(\"data/contrastive_moral_stories/anti_ms/action+norm/norm_distance/\")\n",
    "\n",
    "flipped_train = pd.concat([opt_train, non_opt_train])\n",
    "flipped_dev = pd.concat([opt_dev, non_opt_dev])\n",
    "flipped_test = pd.concat([opt_test, non_opt_test])\n",
    "\n",
    "# stack all flipped norms\n",
    "flipped_norms = pd.concat([flipped_train, flipped_dev, flipped_test])[[\"norm\", \"ID\"]].drop_duplicates(\"norm\")\n",
    "flipped_norms.rename(columns={\"norm\":\"flipped-norm\"}, inplace=True)\n",
    "\n",
    "# get original norms\n",
    "norms = pd.concat([train, dev, test])[[\"norm\", \"ID\"]].drop_duplicates(\"norm\")\n",
    "\n",
    "combined = flipped_norms.merge(norms, on=\"ID\")[[\"ID\",\"norm\",\"flipped-norm\"]]\n",
    "sample = combined.sample(n)\n",
    "\n",
    "sample.to_csv(\"data/contrastive_moral_stories/flipped_sample.csv\")"
   ]
  },
  {
   "cell_type": "markdown",
   "id": "4d09d6f6-b1f4-45d7-9514-8a197dbdcb8f",
   "metadata": {},
   "source": [
    "## Manual examination of hard samples\n",
    "***\n"
   ]
  },
  {
   "cell_type": "code",
   "execution_count": null,
   "id": "b1ab4730-0d01-42dc-8408-e155a5b13007",
   "metadata": {},
   "outputs": [
    {
     "data": {
      "text/html": [
       "<div>\n",
       "<style scoped>\n",
       "    .dataframe tbody tr th:only-of-type {\n",
       "        vertical-align: middle;\n",
       "    }\n",
       "\n",
       "    .dataframe tbody tr th {\n",
       "        vertical-align: top;\n",
       "    }\n",
       "\n",
       "    .dataframe thead th {\n",
       "        text-align: right;\n",
       "    }\n",
       "</style>\n",
       "<table border=\"1\" class=\"dataframe\">\n",
       "  <thead>\n",
       "    <tr style=\"text-align: right;\">\n",
       "      <th></th>\n",
       "      <th>norm</th>\n",
       "      <th>rot</th>\n",
       "      <th>rot-judgment</th>\n",
       "      <th>rot-action</th>\n",
       "      <th>action-moral-judgment</th>\n",
       "      <th>flipped-rot-judgment</th>\n",
       "      <th>flipped-rot</th>\n",
       "    </tr>\n",
       "  </thead>\n",
       "  <tbody>\n",
       "    <tr>\n",
       "      <th>665</th>\n",
       "      <td>It's expected that partners will be loyal to one another.</td>\n",
       "      <td>It's expected that partners will be loyal to one another.</td>\n",
       "      <td>it's expected</td>\n",
       "      <td>being loyal to one another.</td>\n",
       "      <td>-1.0</td>\n",
       "      <td>it's important</td>\n",
       "      <td>It's important that partners are loyal to one another.</td>\n",
       "    </tr>\n",
       "    <tr>\n",
       "      <th>3732</th>\n",
       "      <td>Cheating is frowned upon.</td>\n",
       "      <td>Cheating is frowned upon.</td>\n",
       "      <td>is frowned upon</td>\n",
       "      <td>Cheating</td>\n",
       "      <td>-1.0</td>\n",
       "      <td>It's good</td>\n",
       "      <td>It's good to cheat.</td>\n",
       "    </tr>\n",
       "  </tbody>\n",
       "</table>\n",
       "</div>"
      ],
      "text/plain": [
       "                                                           norm  \\\n",
       "665   It's expected that partners will be loyal to one another.   \n",
       "3732                                  Cheating is frowned upon.   \n",
       "\n",
       "                                                            rot  \\\n",
       "665   It's expected that partners will be loyal to one another.   \n",
       "3732                                  Cheating is frowned upon.   \n",
       "\n",
       "         rot-judgment                   rot-action  action-moral-judgment  \\\n",
       "665     it's expected  being loyal to one another.                   -1.0   \n",
       "3732  is frowned upon                     Cheating                   -1.0   \n",
       "\n",
       "     flipped-rot-judgment  \\\n",
       "665        it's important   \n",
       "3732            It's good   \n",
       "\n",
       "                                                 flipped-rot  \n",
       "665   It's important that partners are loyal to one another.  \n",
       "3732                                     It's good to cheat.  "
      ]
     },
     "execution_count": 24,
     "metadata": {},
     "output_type": "execute_result"
    }
   ],
   "source": [
    "mssc[mssc[\"norm\"].apply(lambda x: x in {\"Cheating is frowned upon.\", \"It's expected that partners will be loyal to one another.\"})]"
   ]
  },
  {
   "cell_type": "code",
   "execution_count": null,
   "id": "079f63b8-fae8-4d58-99ca-a1f4811e1f46",
   "metadata": {},
   "outputs": [],
   "source": []
  },
  {
   "cell_type": "code",
   "execution_count": 24,
   "id": "da3a3f3a-3cc3-4bc5-8933-19c8f4f20608",
   "metadata": {},
   "outputs": [
    {
     "data": {
      "text/html": [
       "<div>\n",
       "<style scoped>\n",
       "    .dataframe tbody tr th:only-of-type {\n",
       "        vertical-align: middle;\n",
       "    }\n",
       "\n",
       "    .dataframe tbody tr th {\n",
       "        vertical-align: top;\n",
       "    }\n",
       "\n",
       "    .dataframe thead th {\n",
       "        text-align: right;\n",
       "    }\n",
       "</style>\n",
       "<table border=\"1\" class=\"dataframe\">\n",
       "  <thead>\n",
       "    <tr style=\"text-align: right;\">\n",
       "      <th></th>\n",
       "      <th>norm</th>\n",
       "      <th>translated</th>\n",
       "    </tr>\n",
       "  </thead>\n",
       "  <tbody>\n",
       "    <tr>\n",
       "      <th>860</th>\n",
       "      <td>Partners should be willing to do favors for each other.</td>\n",
       "      <td>It is wrong for partners to be willing to do favors for each other</td>\n",
       "    </tr>\n",
       "    <tr>\n",
       "      <th>4000</th>\n",
       "      <td>It's wrong to ignore someone after a one-night stand.</td>\n",
       "      <td>It's good to ignore someone after a one-night stand.</td>\n",
       "    </tr>\n",
       "    <tr>\n",
       "      <th>4193</th>\n",
       "      <td>You shouldn't stop communicating with a friend.</td>\n",
       "      <td>It's rude to communicate with a friend.</td>\n",
       "    </tr>\n",
       "    <tr>\n",
       "      <th>9831</th>\n",
       "      <td>You shouldn't make your friends jealous.</td>\n",
       "      <td>It's good to make your friends jealous.</td>\n",
       "    </tr>\n",
       "    <tr>\n",
       "      <th>10655</th>\n",
       "      <td>It's rude to come over without permission.</td>\n",
       "      <td>It's allowed to come over without permission.</td>\n",
       "    </tr>\n",
       "    <tr>\n",
       "      <th>12550</th>\n",
       "      <td>It is mean to keep grandparents from seeing their grandchildren.</td>\n",
       "      <td>You should keep grandparents from seeing their grandchildren.</td>\n",
       "    </tr>\n",
       "    <tr>\n",
       "      <th>12822</th>\n",
       "      <td>It's wrong to judge someone for having HIV.</td>\n",
       "      <td>It's good to judge someone for having HIV.</td>\n",
       "    </tr>\n",
       "  </tbody>\n",
       "</table>\n",
       "</div>"
      ],
      "text/plain": [
       "                                                                   norm  \\\n",
       "860             Partners should be willing to do favors for each other.   \n",
       "4000              It's wrong to ignore someone after a one-night stand.   \n",
       "4193                    You shouldn't stop communicating with a friend.   \n",
       "9831                           You shouldn't make your friends jealous.   \n",
       "10655                        It's rude to come over without permission.   \n",
       "12550  It is mean to keep grandparents from seeing their grandchildren.   \n",
       "12822                       It's wrong to judge someone for having HIV.   \n",
       "\n",
       "                                                               translated  \n",
       "860    It is wrong for partners to be willing to do favors for each other  \n",
       "4000                 It's good to ignore someone after a one-night stand.  \n",
       "4193                              It's rude to communicate with a friend.  \n",
       "9831                              It's good to make your friends jealous.  \n",
       "10655                       It's allowed to come over without permission.  \n",
       "12550       You should keep grandparents from seeing their grandchildren.  \n",
       "12822                          It's good to judge someone for having HIV.  "
      ]
     },
     "execution_count": 24,
     "metadata": {},
     "output_type": "execute_result"
    }
   ],
   "source": [
    "hard_samples = set('''It is mean to keep grandparents from seeing their grandchildren.\n",
    "It's rude to come over without permission.\n",
    "It's wrong to ignore someone after a one-night stand.\n",
    "It's wrong to judge someone for having HIV.\n",
    "Partners should be willing to do favors for each other.\n",
    "You shouldn't make your friends jealous.\n",
    "You shouldn't stop communicating with a friend.\n",
    "'''.split(\"\\n\"))\n",
    "hs = non_optional_flipped[non_optional_flipped[\"norm\"].apply(lambda x: x in hard_samples)].copy()\n",
    "\n",
    "x = tokenizer(hs[\"flipped-rot-judgment\"].to_list(), hs[\"rot-action\"].to_list(), \n",
    "              padding=\"max_length\", return_tensors=\"pt\")\n",
    "x = {k:v.cuda() for k,v in x.items()}\n",
    "y = model.generate(**x, min_length=1, max_length=128, top_p=0.95, top_k=50, num_beams=5, temperature=1, do_sample=True)\n",
    "hs[\"translated\"] = tokenizer.batch_decode(y, skip_special_tokens=True)\n",
    "hs[[\"norm\", \"translated\"]]"
   ]
  },
  {
   "cell_type": "code",
   "execution_count": null,
   "id": "b9907aeb-f236-4d84-b161-ac33ca49c9ab",
   "metadata": {},
   "outputs": [],
   "source": []
  }
 ],
 "metadata": {
  "kernelspec": {
   "display_name": "Python 3 (ipykernel)",
   "language": "python",
   "name": "python3"
  },
  "language_info": {
   "codemirror_mode": {
    "name": "ipython",
    "version": 3
   },
   "file_extension": ".py",
   "mimetype": "text/x-python",
   "name": "python",
   "nbconvert_exporter": "python",
   "pygments_lexer": "ipython3",
   "version": "3.9.13"
  }
 },
 "nbformat": 4,
 "nbformat_minor": 5
}
