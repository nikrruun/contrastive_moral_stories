{
 "cells": [
  {
   "cell_type": "code",
   "execution_count": 1,
   "id": "f77891ee-9bce-4735-8d79-fed927154239",
   "metadata": {},
   "outputs": [
    {
     "name": "stdout",
     "output_type": "stream",
     "text": [
      "109546\n"
     ]
    }
   ],
   "source": [
    "import pandas as pd\n",
    "import numpy as np\n",
    "from tqdm import tqdm\n",
    "\n",
    "def load_action_norm_split(path):\n",
    "    train, dev, test = [pd.read_json(f\"{path}{x}.jsonl\", lines=True) for x in [\"train\", \"dev\", \"test\"]]\n",
    "    train[\"split\"] = \"train\"\n",
    "    dev[\"split\"] = \"dev\"\n",
    "    test[\"split\"] = \"test\"\n",
    "    return train, dev, test\n",
    "\n",
    "def load_social_chem101():\n",
    "    a = pd.read_csv(\"data/social-chem-101/social-chem-101.v1.0.tsv\", sep=\"\\t\")\n",
    "    return a\n",
    "\n",
    "train, dev, test = load_action_norm_split(\"data/moral_stories_datasets/classification/action+norm/norm_distance/\")\n",
    "moral_stories = pd.concat([train, dev, test])\n",
    "social_chem = load_social_chem101()\n",
    "social_chem = social_chem[social_chem[\"split\"] == \"train\"]\n",
    "social_chem = social_chem.dropna(subset=[\"rot-categorization\", \"rot-judgment\", \"action\", \"rot-agree\"])\n",
    "social_chem = social_chem[social_chem[\"rot-agree\"] >= 3.0]\n",
    "social_chem = social_chem[social_chem[\"rot-bad\"] == 0]\n",
    "social_chem = social_chem[social_chem[\"rot-categorization\"].apply(lambda x: \"morality-ethics\" in x or \"social-norms\" in x)]\n",
    "social_chem = social_chem[social_chem[\"rot-judgment\"].apply(lambda x: \"{\" not in x)]\n",
    "print(len(social_chem))"
   ]
  },
  {
   "cell_type": "markdown",
   "id": "21a6d51b-089a-4de9-89c6-6154e17a366d",
   "metadata": {},
   "source": [
    "### Joining Moral Stories on Social Chem 101\n",
    "***\n",
    "MS is a subset of SocialChem101, but the connection is lost. We want it back to have access to the human annotated splits norms into action and judgment parts."
   ]
  },
  {
   "cell_type": "code",
   "execution_count": 2,
   "id": "4940230e-a8f7-4679-9223-6ff7c20df31c",
   "metadata": {},
   "outputs": [
    {
     "name": "stdout",
     "output_type": "stream",
     "text": [
      "After joining, we retain 11986 norms from Moral Stories (12000)\n"
     ]
    }
   ],
   "source": [
    "norms = moral_stories.drop_duplicates(\"norm\")\n",
    "\n",
    "mssc = norms.merge(social_chem, left_on=\"norm\", right_on=\"rot\")\n",
    "print(\"After joining, we retain\", len(mssc[\"norm\"].unique()), f\"norms from Moral Stories ({len(norms)})\")\n",
    "groups = mssc.groupby(\"norm\", as_index=False)\n",
    "# some norms have multiple join partners, we take the first occurences\n",
    "mssc = groups.nth(0)"
   ]
  },
  {
   "cell_type": "markdown",
   "id": "c12e72a7-8097-43dd-87aa-0d3c2ab1dd3f",
   "metadata": {},
   "source": [
    "### Get sentence embeddings with SentenceTransformers\n",
    "***"
   ]
  },
  {
   "cell_type": "code",
   "execution_count": 3,
   "id": "a41c9b94-fea8-4072-9ff8-e1c03b7d9fa8",
   "metadata": {},
   "outputs": [
    {
     "name": "stderr",
     "output_type": "stream",
     "text": [
      "2022-06-28 22:20:58.554143: I tensorflow/core/util/util.cc:169] oneDNN custom operations are on. You may see slightly different numerical results due to floating-point round-off errors from different computation orders. To turn them off, set the environment variable `TF_ENABLE_ONEDNN_OPTS=0`.\n"
     ]
    }
   ],
   "source": [
    "from sentence_transformers import SentenceTransformer\n",
    "embedder = \"all-mpnet-base-v2\"\n",
    "model = SentenceTransformer(embedder)"
   ]
  },
  {
   "cell_type": "code",
   "execution_count": 4,
   "id": "b53a8469-183c-425d-979d-682f62dce42e",
   "metadata": {},
   "outputs": [
    {
     "data": {
      "application/vnd.jupyter.widget-view+json": {
       "model_id": "1e351568d4224d1c99daf6b2fe70fd99",
       "version_major": 2,
       "version_minor": 0
      },
      "text/plain": [
       "Batches:   0%|          | 0/94 [00:00<?, ?it/s]"
      ]
     },
     "metadata": {},
     "output_type": "display_data"
    }
   ],
   "source": [
    "embeddings = model.encode(mssc[\"action\"].tolist(), batch_size = 128, show_progress_bar=True)"
   ]
  },
  {
   "cell_type": "code",
   "execution_count": 5,
   "id": "575ac389-7c54-4a1b-bd2b-ce9c4cc29dd5",
   "metadata": {},
   "outputs": [],
   "source": [
    "from sklearn.cluster import AgglomerativeClustering, KMeans, DBSCAN, OPTICS, SpectralClustering\n",
    "from sklearn.metrics import silhouette_samples, silhouette_score\n",
    "\n",
    "\n",
    "from sklearn.metrics.pairwise import cosine_similarity, euclidean_distances\n",
    "import matplotlib.pyplot as plt\n",
    "\n",
    "similarities = cosine_similarity(embeddings)\n"
   ]
  },
  {
   "cell_type": "code",
   "execution_count": 6,
   "id": "fd7b81ef-199f-4c27-bf8e-91407f7d8c77",
   "metadata": {},
   "outputs": [],
   "source": [
    "import itertools\n",
    "from tqdm import tqdm\n",
    "\n",
    "# from https://stackoverflow.com/questions/70714733/split-an-array-according-to-cluster-labels\n",
    "def get_cluster_indices(y):\n",
    "    s = np.argsort(y)\n",
    "    return np.split(s, np.unique(y[s], return_index=True)[1][1:])\n",
    "\n",
    "aggregators = {\n",
    "    \"mean\": np.mean,\n",
    "    \"max\": np.max,\n",
    "    \"min\": np.min,\n",
    "}\n",
    "\n",
    "def agg_intra_cluster(y, pairwise, agg=\"mean\", verbose=1):\n",
    "    ''' Compute aggregates of pairwise metrics per cluster'''\n",
    "    clusters = get_cluster_indices(y)\n",
    "    intra = np.zeros(len(clusters), \"float32\")\n",
    "    \n",
    "    if agg not in aggregators: raise ValueError(f\"Unknown agg '{agg}'\")\n",
    "    agg = aggregators[agg]\n",
    "    \n",
    "    m = enumerate(clusters)\n",
    "    if verbose > 0:\n",
    "        m = tqdm(m)\n",
    "    for i, c in m:\n",
    "        if len(c) < 2: continue\n",
    "\n",
    "        triu = np.triu(pairwise[c][:,c], 1)\n",
    "        intra[i] = agg(triu[triu!=0.0])\n",
    "\n",
    "\n",
    "        # inefficient indexing, might rework later...\n",
    "        #indices = np.array(list(itertools.combinations(c, 2)))\n",
    "        #intra[i] = agg(pairwise[indices[:,0], indices[:,1]])\n",
    "\n",
    "\n",
    "    return intra\n",
    "\n",
    "def agg_inter_cluster(y, pairwise, agg=\"mean\", verbose=1):\n",
    "    clusters = get_cluster_indices(y)\n",
    "    inter = np.zeros(len(clusters), \"float32\")\n",
    "    all_indices = set(range(len(y)))\n",
    "\n",
    "    if agg not in aggregators: raise ValueError(f\"Unknown agg '{agg}'\")\n",
    "    agg = aggregators[agg]\n",
    "    \n",
    "    m = enumerate(clusters)\n",
    "    if verbose > 0:\n",
    "        m = tqdm(m)\n",
    "    for i, c in m:\n",
    "        inter[i] = agg(pairwise[c,:][:,list(all_indices.difference(c))])\n",
    "    return inter"
   ]
  },
  {
   "cell_type": "code",
   "execution_count": 36,
   "id": "a5fd33f9-af4c-4ef8-acea-4d79bfdb0445",
   "metadata": {},
   "outputs": [],
   "source": [
    "cla = DBSCAN(eps=0.5, metric=\"euclidean\")\n",
    "y = cla.fit_predict(embeddings)"
   ]
  },
  {
   "cell_type": "code",
   "execution_count": 37,
   "id": "ce6ea10a-de4a-471c-8e47-06803778d8fd",
   "metadata": {},
   "outputs": [
    {
     "data": {
      "text/plain": [
       "-0.20823617"
      ]
     },
     "execution_count": 37,
     "metadata": {},
     "output_type": "execute_result"
    }
   ],
   "source": [
    "silhouette_score(embeddings, y)"
   ]
  },
  {
   "cell_type": "code",
   "execution_count": 38,
   "id": "9b66cf52-108e-4755-8f9d-0baac76b26ce",
   "metadata": {
    "tags": []
   },
   "outputs": [],
   "source": [
    "def eval_clustering_similarity(y, similarities, verbose=0):\n",
    "    intra_sim = agg_intra_cluster(y, similarities, agg=\"mean\")\n",
    "    inter_sim = agg_inter_cluster(y, similarities, agg=\"mean\")\n",
    "\n",
    "    # we want high intra and low inter similarity\n",
    "    mean = intra_sim - inter_sim\n",
    "\n",
    "    most_similar = mean.argsort()[::-1]\n",
    "    if verbose > 0:\n",
    "        clusters = get_cluster_indices(y)\n",
    "        for i in range(min(len(intra_sim), 5)):\n",
    "            index = most_similar[i]\n",
    "            cluster = clusters[i]\n",
    "            print(index, len(cluster))\n",
    "            print(intra_sim[index], inter_sim[index])\n",
    "            #for j in cluster:\n",
    "            #    print(f\"\\t{mssc['norm'].iloc[j]}\")\n",
    "    return intra_sim, inter_sim"
   ]
  },
  {
   "cell_type": "code",
   "execution_count": 40,
   "id": "d780cb8e-40fd-4534-b899-a74000aa8e39",
   "metadata": {},
   "outputs": [
    {
     "data": {
      "text/plain": [
       "array([-1, -1, -1, ..., -1, -1, -1])"
      ]
     },
     "execution_count": 40,
     "metadata": {},
     "output_type": "execute_result"
    }
   ],
   "source": []
  },
  {
   "cell_type": "code",
   "execution_count": 39,
   "id": "5449376a-7f98-4d8b-8e5f-82d5b996aefe",
   "metadata": {},
   "outputs": [
    {
     "name": "stderr",
     "output_type": "stream",
     "text": [
      "124it [00:01, 89.85it/s]\n",
      "124it [00:00, 442.77it/s]\n"
     ]
    },
    {
     "name": "stdout",
     "output_type": "stream",
     "text": [
      "43 10752\n",
      "0.9781275 0.28505534\n",
      "44 13\n",
      "0.9748004 0.2839892\n",
      "15 87\n",
      "0.8784078 0.19700746\n",
      "121 24\n",
      "0.88868177 0.21229997\n",
      "25 8\n",
      "0.98545533 0.31875023\n"
     ]
    },
    {
     "data": {
      "image/png": "[encoded data removed]",
      "text/plain": [
       "<Figure size 432x288 with 1 Axes>"
      ]
     },
     "metadata": {
      "needs_background": "light"
     },
     "output_type": "display_data"
    }
   ],
   "source": [
    "intra_sim, inter_sim = eval_clustering_similarity(y, similarities, verbose=1)\n",
    "\n",
    "plt.hist([intra_sim, inter_sim], bins=50, label=[\"Intra\", \"Inter\"])\n",
    "plt.legend()\n",
    "plt.title(\"Cluster similarity\")\n",
    "plt.show()"
   ]
  },
  {
   "cell_type": "code",
   "execution_count": null,
   "id": "58e6d31a-c946-4ea7-8aa4-95a24c58aac7",
   "metadata": {},
   "outputs": [],
   "source": []
  },
  {
   "cell_type": "code",
   "execution_count": null,
   "id": "5a48a8fd-62ee-46ef-8b64-e250c32bf03a",
   "metadata": {},
   "outputs": [],
   "source": [
    "similarities = cosine_similarity(embeddings)\n",
    "for n in [1000]:\n",
    "    cla = AgglomerativeClustering(n, affinity=\"cosine\", linkage=\"complete\")\n",
    "    y = cla.fit_predict(embeddings)\n",
    "    score = silhouette_score(embeddings, y, metric=\"cosine\")\n",
    "    print(f\"{n}: {score}\")\n",
    "    eval_clustering_similarity(y, similarities)"
   ]
  },
  {
   "cell_type": "code",
   "execution_count": 17,
   "id": "e3cc6520-86b9-4180-93d1-eccd602252f8",
   "metadata": {},
   "outputs": [
    {
     "data": {
      "image/png": "[encoded data removed]",
      "text/plain": [
       "<Figure size 432x288 with 1 Axes>"
      ]
     },
     "metadata": {
      "needs_background": "light"
     },
     "output_type": "display_data"
    }
   ],
   "source": [
    "import matplotlib.pyplot as plt\n",
    "bins, counts = np.unique(y, return_counts=True)\n",
    "argsort = counts.argsort()[::-1]\n",
    "plt.bar(range(n), counts[argsort])\n",
    "plt.yscale(\"log\")\n",
    "plt.show()"
   ]
  },
  {
   "cell_type": "code",
   "execution_count": 33,
   "id": "19fd5826-cc9a-408b-91f3-58d2548af975",
   "metadata": {},
   "outputs": [
    {
     "data": {
      "text/plain": [
       "array([1, 1, 1, ..., 9, 1, 1])"
      ]
     },
     "execution_count": 33,
     "metadata": {},
     "output_type": "execute_result"
    }
   ],
   "source": [
    "y"
   ]
  },
  {
   "cell_type": "code",
   "execution_count": 6,
   "id": "cf9753bd-40d2-495f-a91d-caec14c833a0",
   "metadata": {},
   "outputs": [],
   "source": [
    "def find_matches(threshold=None, top_k=None):\n",
    "    if threshold is None and top_k is None:\n",
    "        raise ValueError(\"Specify either threshold or top_k\")\n",
    "    if threshold is not None:\n",
    "        return [np.where(similarities[i]>=threshold)[0] for i in tqdm(range(len(similarities)))]\n",
    "    if top_k is not None:\n",
    "        return [similarities[i].argpartition(-top_k)[-top_k:] for i in tqdm(range(len(similarities)))]"
   ]
  },
  {
   "cell_type": "code",
   "execution_count": null,
   "id": "c8397834-e918-45d0-a6d4-1af7c8eb8fd5",
   "metadata": {},
   "outputs": [],
   "source": []
  },
  {
   "cell_type": "code",
   "execution_count": 7,
   "id": "7d32f9ba-4488-4168-8b52-790256d479f4",
   "metadata": {},
   "outputs": [
    {
     "name": "stderr",
     "output_type": "stream",
     "text": [
      "100%|██████████| 11986/11986 [00:00<00:00, 63464.46it/s]\n"
     ]
    }
   ],
   "source": [
    "matches = find_matches(threshold=0.7)"
   ]
  },
  {
   "cell_type": "code",
   "execution_count": 1,
   "id": "69274337-9ef1-4186-9005-e66e3c4bdbde",
   "metadata": {},
   "outputs": [
    {
     "ename": "NameError",
     "evalue": "name 'mssc' is not defined",
     "output_type": "error",
     "traceback": [
      "\u001b[0;31m---------------------------------------------------------------------------\u001b[0m",
      "\u001b[0;31mNameError\u001b[0m                                 Traceback (most recent call last)",
      "Input \u001b[0;32mIn [1]\u001b[0m, in \u001b[0;36m<cell line: 2>\u001b[0;34m()\u001b[0m\n\u001b[1;32m      1\u001b[0m index \u001b[38;5;241m=\u001b[39m \u001b[38;5;241m2854\u001b[39m\n\u001b[0;32m----> 2\u001b[0m \u001b[38;5;28mprint\u001b[39m(\u001b[43mmssc\u001b[49m[\u001b[38;5;124m\"\u001b[39m\u001b[38;5;124mnorm\u001b[39m\u001b[38;5;124m\"\u001b[39m]\u001b[38;5;241m.\u001b[39miloc[index])\n\u001b[1;32m      3\u001b[0m \u001b[38;5;28;01mfor\u001b[39;00m i \u001b[38;5;129;01min\u001b[39;00m matches[index]:\n\u001b[1;32m      4\u001b[0m     \u001b[38;5;28mprint\u001b[39m(\u001b[38;5;124mf\u001b[39m\u001b[38;5;124m\"\u001b[39m\u001b[38;5;130;01m\\t\u001b[39;00m\u001b[38;5;132;01m{\u001b[39;00mi\u001b[38;5;132;01m}\u001b[39;00m\u001b[38;5;124m: \u001b[39m\u001b[38;5;132;01m{\u001b[39;00msimilarities[index, i]\u001b[38;5;132;01m:\u001b[39;00m\u001b[38;5;124m.2f\u001b[39m\u001b[38;5;132;01m}\u001b[39;00m\u001b[38;5;124m \u001b[39m\u001b[38;5;132;01m{\u001b[39;00mmssc[\u001b[38;5;124m'\u001b[39m\u001b[38;5;124mnorm\u001b[39m\u001b[38;5;124m'\u001b[39m]\u001b[38;5;241m.\u001b[39miloc[i]\u001b[38;5;132;01m}\u001b[39;00m\u001b[38;5;124m\"\u001b[39m)\n",
      "\u001b[0;31mNameError\u001b[0m: name 'mssc' is not defined"
     ]
    }
   ],
   "source": [
    "index = 2854\n",
    "print(mssc[\"norm\"].iloc[index])\n",
    "for i in matches[index]:\n",
    "    print(f\"\\t{i}: {similarities[index, i]:.2f} {mssc['norm'].iloc[i]}\")"
   ]
  },
  {
   "cell_type": "code",
   "execution_count": 45,
   "id": "460343e0-8ab7-4038-8558-4fa7f5922456",
   "metadata": {},
   "outputs": [
    {
     "data": {
      "image/png": "[encoded data removed]",
      "text/plain": [
       "<Figure size 432x288 with 1 Axes>"
      ]
     },
     "metadata": {
      "needs_background": "light"
     },
     "output_type": "display_data"
    },
    {
     "name": "stdout",
     "output_type": "stream",
     "text": [
      "You should never steal someone else's possessions.\n",
      "\t7540: 0.87 It's wrong to steal something that isn't yours.\n",
      "\t8390: 0.88 It's wrong to take other people's things.\n",
      "\t7532: 0.88 It's wrong to steal things from other people.\n",
      "\t9126: 0.88 It's wrong to steal from anyone.\n",
      "\t7700: 0.88 IT is not good to steal from anyone.\n",
      "\t7547: 0.89 It's wrong to steal things from another person.\n",
      "\t9413: 0.89 It's not okay to steal something from someone.\n",
      "\t4415: 0.90 It's wrong to steal from a person's place of business.\n",
      "\t8813: 0.90 You shouldn't take other people's belongings.\n",
      "\t8778: 0.90 You shouldn't take someone else's things.\n",
      "\t2820: 0.90 You shouldn't steal from someone's house.\n",
      "\t6921: 0.91 It's not okay to steal things that aren't yours.\n",
      "\t6692: 0.92 It's unethical and immoral to steal from another person.\n",
      "\t7546: 0.93 It's wrong to steal things that don't belong to you.\n",
      "\t7605: 0.93 You shouldn't steal things that don't belong to you.\n",
      "\t5905: 0.93 It's bad to steal things that don't belong to you.\n",
      "\t7536: 0.93 It is wrong to steal the property of others.\n",
      "\t7529: 0.93 It's wrong to steal other people's stuff.\n",
      "\t5801: 0.97 It's unethical to steal someone else's property.\n",
      "\t31: 1.00 You should never steal someone else's possessions.\n"
     ]
    }
   ],
   "source": [
    "index = 31\n",
    "_ = plt.hist(similarities[index], bins=100)\n",
    "plt.show()\n",
    "print(mssc[\"norm\"].iloc[index])\n",
    "n = 20\n",
    "most_similar = similarities[index].argsort()[-n:]\n",
    "for i in range(n):\n",
    "    k = most_similar[i]\n",
    "    print(f\"\\t{k}: {similarities[index, k]:.2f} {mssc['norm'].iloc[k]}\")"
   ]
  },
  {
   "cell_type": "code",
   "execution_count": 162,
   "id": "c3d54c07-3e72-4b4b-8c16-0815f2c62f13",
   "metadata": {},
   "outputs": [
    {
     "name": "stderr",
     "output_type": "stream",
     "text": [
      "100%|██████████| 11986/11986 [00:27<00:00, 435.02it/s] \n"
     ]
    }
   ],
   "source": [
    "def find_matches_recursively(threshold):\n",
    "    matches = []\n",
    "    for index in tqdm(range(len(mssc))):\n",
    "        indices = set()\n",
    "        stack = [index]\n",
    "        while len(stack) != 0:\n",
    "            # get next similar norm\n",
    "            k = stack.pop()\n",
    "            # add it to indices\n",
    "            indices.add(k)\n",
    "\n",
    "            # find all similar to k\n",
    "            next_similar = set(np.where(similarities[k]>=threshold)[0]) - {k}\n",
    "            stack += next_similar - indices\n",
    "        indices -= {index}\n",
    "        matches.append(indices)\n",
    "    return matches"
   ]
  },
  {
   "cell_type": "code",
   "execution_count": 163,
   "id": "77f67237-0b9d-4b28-a808-cd07ce903ce7",
   "metadata": {},
   "outputs": [
    {
     "data": {
      "image/png": "[encoded data removed]",
      "text/plain": [
       "<Figure size 432x288 with 1 Axes>"
      ]
     },
     "metadata": {
      "needs_background": "light"
     },
     "output_type": "display_data"
    }
   ],
   "source": [
    "k = [len(x) for x in matches]\n",
    "_ = plt.hist(k, bins=range(max(k)))\n",
    "plt.show()"
   ]
  },
  {
   "cell_type": "markdown",
   "id": "274b8332-1aed-4922-9ef7-af697dfad76e",
   "metadata": {},
   "source": [
    "# Clustering with SKlearn\n",
    "***"
   ]
  },
  {
   "cell_type": "code",
   "execution_count": 33,
   "id": "69dc9be6-bd7c-47af-a4aa-2752d6b7114b",
   "metadata": {},
   "outputs": [],
   "source": [
    "from sklearn.cluster import KMeans\n",
    "\n",
    "# Perform kmean clustering\n",
    "num_clusters = 500\n",
    "clustering_model = KMeans(n_clusters=num_clusters)\n",
    "clustering_model.fit(embeddings)\n",
    "clusters = clustering_model.labels_"
   ]
  },
  {
   "cell_type": "code",
   "execution_count": 44,
   "id": "b37f2d61-f0cf-4e20-9471-b11cd9ca2725",
   "metadata": {},
   "outputs": [
    {
     "name": "stdout",
     "output_type": "stream",
     "text": [
      "Cluster  1\n",
      "[\"It's hurtful to cost someone their job.\", \"It's hurtful to have someone fired.\", \"You shouldn't prevent someone from getting a job.\", \"It's good to fire someone for being hateful.\", \"It's bad to try to get someone fired.\", 'It is wrong to ruin someones chances at employment.', \"It's wrong to get someone fired.\", \"It's wrong to fire your employees for no reason.\", \"It's wrong to try to get someone fired.\", \"It's wrong to strike an employee.\", \"It's irresponsible to cause someone to lose their job.\", \"It's rude to make someone lose their job.\", \"It's rude to plot to get people fired.\", \"You shouldn't get your friends fired.\", \"It's wrong to fire someone just because they got injured.\", \"It's mean to get someone fired from their job.\", 'You should fire someone who breaks the rules.', \"It's mean to fire someone because they are injured.\", 'You should give an employee a warning before firing them.', 'Anyone that is worthy of being fired should be.', \"You shouldn't fire someone after they get surgery.\"]\n",
      "\n",
      "Cluster  2\n",
      "[\"It's hurtful to yell at a friend.\", \"It's considered inappropriate to yell at your own mother.\", \"It's wrong to argue with your mother.\", \"It's rude to snap at your housemate.\", 'It is bad to lose your patience with your mother.', 'It is bad to yell at your mother', \"It's wrong to yell at a grandparent.\", 'It is bad to argue with your significant other.', \"You shouldn't yell at your spouse.\", \"You shouldn't get angry with your mother.\", \"You shouldn't fight with your mother.\", \"You shouldn't yell at your family.\", \"It's rude to snap at your parents.\", 'It is disrespectful to yell at your parent.', \"It's rude to yell at your family.\", \"It's bad to yell at your partner.\", \"It's not very nice to snap at a friend.\", \"It's wrong to yell at your elders.\", \"It's wrong to yell at your partner.\", \"It's wrong to snap at your friends.\", \"You shouldn't yell at your significant other\", \"You shouldn't yell at your partner.\", \"You shouldn't snap at your partner.\", 'It is rude to grunt.', 'It is mean to scream at your grandma.']\n",
      "\n",
      "Cluster  3\n",
      "['It is moral to prevent theft or stealing', 'Stealing from the elderly is wrong.', \"It's wrong to steal someone's vehicle.\", \"It's bad to steal someone's car.\", 'Lying about a theft is irresponsible.', \"It's wrong to steal things from someone's house.\", \"You shouldn't rob a house.\", \"It's wrong to steal a purse from another person.\", \"It's bad to steal someone's gold when they find it.\", 'Stealing from a business is illegal and morally wrong.', \"It's bad to steal from Disneyland.\", \"It is wrong to steal someone's identity\", \"It is irresponsible to get somebody else's property stolen\", \"It's bad to give stolen items as gifts.\", \"It's bad to steal other people's things.\", 'It is terrible to steal from a friend.', 'It is immoral to rob someone', 'Stealing something from someone is wrong.', \"You shouldn't steal from customers.\", \"You shouldn't steal bicycles.\", \"Friends don't steal things from other friends.\"]\n",
      "\n",
      "Cluster  4\n",
      "[\"It's kind to share your food with others\", \"It's nice to share food.\", \"It's good to share food with others.\", \"It's good to grab a bite together with a friend.\", \"It's kind to feed your friends.\", \"It's good to eat with other people.\", \"It's polite to share food with others if you can.\", \"It's good to share food with people who are hungry\", \"It's good to share food with people.\", \"It's good to offer food to your friends.\", 'It is good to feed your family', \"It's polite to offer food to a relative's significant other.\", \"It's good to share food with your spouse.\", \"It's good to cook for other people\", \"It's nice to compliment others on their cooking.\", \"It's good to prepare meals for people.\", \"It's kind to cook for other people\", \"It's nice to give someone free food.\", \"You shouldn't feel responsible to feed your friends.\", \"It's mean to not share your food.\", \"You shouldn't eat food you got for your friend.\", \"It's rude to not share food with your friends.\", \"It's polite to wait for everyone before you eat.\", \"You shouldn't cook for people if you're ill.\", 'It is not normal to have a 200 person barbecue.', \"It's fun to eat pizza with others.\", 'It is expected that you save food for other people', 'You should share food with your family.', 'Giving food to a homeless person is very generous.']\n",
      "\n",
      "Cluster  5\n",
      "[\"It's kind to let a friend borrow your possessions.\", \"It's wrong to throw away someone's clothes without their permission.\", \"You shouldn't get rid of someone's belongings without their permission.\", \"You shouldn't borrow things from others without asking.\", \"You shouldn't rummage through other's belongings.\", \"It's wrong to take other people's cutlery.\", \"You shouldn't take your ex's things.\", \"It's rude to move others' belongings without their permission.\", \"It's rude to throw your partner's belongings around.\", \"It's rude to give away another person's things without permission.\", \"It's rude to throw away someone else's belongings.\", \"It's wrong to take things that don't belong to you.\", \"It's wrong to throw away someone else's property.\", \"You shouldn't violate people's boundaries by going through their stuff\", \"You shouldn't lose belongings that don't belong to you.\", \"It's wrong to dispose of other people's belongings.\", \"It's wrong to take things from people that aren't yours.\", \"It's wrong to take other people's things.\", \"It's wrong to go through other peoples personal things.\", \"You shouldn't take someone's things.\", \"You shouldn't take someone else's things.\", \"You shouldn't leave your things in someone's way.\", \"You shouldn't take belongings that don't belong to you.\", \"You shouldn't take other people's belongings.\", \"You shouldn't delete other people's things.\", \"It's not okay to go through peoples personal things.\", \"You shouldn't sell someone's belongings without asking first.\"]\n",
      "\n",
      "Cluster  6\n",
      "[\"It's cruel to hurt someone's feelings.\", 'Making someone feel bad when they just lost is rude.', \"It's good to avoid hurting someone's feelings.\", \"You shouldn't hurt someone's feelings online.\", \"It's hurtful to bring up painful things from someone's past.\", \"It's good to speak out against people who harmed you.\", \"It's good to realize when your actions are toxic.\", \"Hurting other people's feelings is wrong.\", 'It is not acceptable to hurt another persons feelings.', \"You shouldn't toy with other people's emotions\", 'Partners should not make each other feel upset.', \"It is wrong to hurt someone's feelings on purpose.\", \"It's wrong to try to upset people on purpose.\", \"It's wrong to hurt another person\", \"It's kind to avoid hurting other people's feelings.\", 'It is rude to intentionally hurt people emotionally', 'It is rude to purposefully upset another person', \"It's wrong to treat someone who cares about you horribly.\", \"It's wrong to make other people feel bad.\", \"It's wrong to tell a joke that hurts someone.\", \"You shouldn't tell someone hurtful things.\", \"You shouldn't intentionally hurt someone's feelings.\", \"You shouldn't let your emotions hurt others.\", 'When people are upset it helps to do something']\n",
      "\n",
      "Cluster  7\n",
      "['It is bad to eat all of the cake.', \"It's bad to eat a whole box of Lucky Charms.\", \"You shouldn't eat an entire pan of brownies by yourself.\", \"You shouldn't ejaculate in ice cream.\", \"It's mean to finish the last of someone's ice cream.\", \"You shouldn't flake out on someone's birthday party.\", \"You shouldn't eat someone else's birthday cake all by yourself.\"]\n",
      "\n",
      "Cluster  8\n",
      "[\"You don't have to help everyone that asks for it\", \"It's good to help others find something they lost.\", \"It's good to make the world a better place.\", 'You should always help out others.', \"It's good to rescue people if they are in trouble.\", \"You're not expected to help every single person you encounter.\", \"You aren't obligated to help others with their problems.\", \"It's good to do something nice for someone else.\", \"It's good to help out at work.\", \"You aren't expected to solve everyone else's problems.\", \"It's polite to offer your services to others.\", \"It's good to help people who are affected by earthquakes.\", \"It's kind to help people who are having trouble.\", \"It's good to help people out when they're physically weak.\", \"It's good to help people that have been abused.\", \"It's kind to help people when you're able to.\", \"It's kind to do things for a stranger.\", \"It's good to befriend those who are lonely.\", 'It is generous to volunteer your time', \"It's good to help people out with their problems.\", \"It's encouraged to help those in need.\", \"It's nice to offer work for others in need.\", \"It's good to help people in need.\", 'It is good to help others in need.', \"It's kind to offer help to those in need\", 'It is good to help those who need it.', \"It's good to help people when they move.\", \"It's good to help people fix things.\", 'It is okay to provide others with work.', \"It's nice to fix things for other people.\", \"It's good to help people out and enjoy it.\", \"It's good to volunteer for things.\", \"It's nice to do a favor for people.\", \"It's good to lend a hand to people.\", \"It's good to serve for others.\", 'It is good to do work for others.', \"It's good to help other people\", 'It is good to want to help others.', \"It's good to want to rescue others.\", \"It's good to make time for others.\", \"It's nice to volunteer to help others.\", \"It's nice to help others.\", \"It's noble to want to help other people.\", \"It's good to make things for others to enjoy.\", 'It is good to do things for others.', \"It's good to answer others when they have questions.\", \"You should help others when they're in danger.\", \"You should help out others when they don't feel well.\", 'You should help out your partner if they get injured.', 'You should help people out that are down.', 'You should help out people that are sick.', 'It is nice to help those less foruntate than you.', \"It's kind to do favors for people who are sick.\", 'You should help others in times of need.', 'You should make time for others.', 'You should do favors for others.', \"It's to help others when they need some assistance.\", \"You're expected to help people when they need it.\", 'You should help people out when their car breaks down.', \"It's good to help out people in the military.\", 'You should help people that are having a hard time.']\n",
      "\n",
      "Cluster  9\n",
      "[\"You shouldn't force someone to have an abortion.\", \"Adults shouldn't force other adults to do things.\", 'It is wrong to force someone to have an abortion.', 'You should notbe forcd to attend religious services.', \"You shouldn't pressure people to have sex.\", \"It's bad to pressure people into intimacy.\", \"It's bad to pressure people sexually.\", \"It's not okay to impose on others and their homes.\", 'It is wrong to coerce people into sexual acts', \"You shouldn't force your family to do things.\", \"You shouldn't lay guilt trips on people.\", \"It's bad to impose rigid rules on how to live.\", \"It's not good to force someone to do things.\", \"It's wrong to pressure others to have children.\", \"It's wrong to conform due to societal pressure.\", \"It's bad to guilt people into things.\", \"It's wrong to force yourself onto others.\", \"It's rude to make demands.\", \"You shouldn't give ultimatums to people.\", 'You should not demand things from others.', \"You shouldn't bug people to do things.\", \"It's not okay to pressure people into things.\", \"You shouldn't force people to do things.\", \"You shouldn't force someone to do something they don't want.\", \"You should not force people into situations they don't like.\", \"You shouldn't let others pressure you to do things.\", 'It is bad to pressure someone into doing something.', 'It is bad to pressure others.', \"It's mean to force people into things.\", 'You should not force people to live under religious laws.']\n",
      "\n",
      "Cluster  10\n",
      "[\"It's expected to have good communication with ones spouse\", 'Communication is important in a relationship.', \"It's important to communicate honestly with your partner.\", \"It's good to reconcile your differences with your significant other.\", 'It is right to tell the truth in a relationship.', \"It is good to admit when a relationship isn't working.\", 'It is good to confide in your significant other', \"You shouldn't tell your partner who to see.\", \"You shouldn't get involved with your therapist romantically.\", 'You should not tell your partner who to communicate with.', 'It is good to talk through situations with partner.', \"It's good to communicate your concerns with your partner.\", 'You should share concerns with your significant other.', \"It's accepting to treat unconventional couplings with grace.\", 'You should be honest with your significant others', \"You should care about your partner's discomfort.\", 'You should tell your partner if you feel ignored.', 'You should tell someone if their partner is manipulating them.', 'You should consult with your partner over big decisions.']\n",
      "\n"
     ]
    }
   ],
   "source": [
    "clustered_sentences = [[] for i in range(num_clusters)]\n",
    "for sentence_id, cluster_id in enumerate(clusters):\n",
    "    clustered_sentences[cluster_id].append(mssc[\"norm\"].iloc[sentence_id])\n",
    "\n",
    "for i, cluster in enumerate(clustered_sentences[:10]):\n",
    "    print(\"Cluster \", i+1)\n",
    "    print(cluster)\n",
    "    print(\"\")"
   ]
  },
  {
   "cell_type": "code",
   "execution_count": 35,
   "id": "318261dc-e42c-4f52-ab1f-53d23f196dac",
   "metadata": {},
   "outputs": [],
   "source": [
    "from sklearn import metrics\n",
    "coefficient = metrics.silhouette_score(embeddings, clustering_model.labels_, metric=\"euclidean\")"
   ]
  },
  {
   "cell_type": "code",
   "execution_count": 36,
   "id": "6e208d9c-47c0-49b0-9aca-eac58b9ee8e1",
   "metadata": {},
   "outputs": [
    {
     "data": {
      "text/plain": [
       "0.057386577"
      ]
     },
     "execution_count": 36,
     "metadata": {},
     "output_type": "execute_result"
    }
   ],
   "source": [
    "metrics.intr"
   ]
  },
  {
   "cell_type": "code",
   "execution_count": 40,
   "id": "5d64c69d-1b47-49f1-ad4d-a2b979fec93b",
   "metadata": {},
   "outputs": [
    {
     "data": {
      "text/plain": [
       "array([380, 470, 479, ..., 145, 495, 116], dtype=int32)"
      ]
     },
     "execution_count": 40,
     "metadata": {},
     "output_type": "execute_result"
    }
   ],
   "source": [
    "clustering_model.labels_"
   ]
  },
  {
   "cell_type": "code",
   "execution_count": 39,
   "id": "5582c06f-226e-4b08-b90a-13904832ea42",
   "metadata": {},
   "outputs": [
    {
     "data": {
      "image/png": "[encoded data removed]",
      "text/plain": [
       "<Figure size 432x288 with 1 Axes>"
      ]
     },
     "metadata": {
      "needs_background": "light"
     },
     "output_type": "display_data"
    }
   ],
   "source": [
    "_ = plt.hist(clustering_model.labels_, bins=num_clusters)\n",
    "plt.show()\n"
   ]
  },
  {
   "cell_type": "code",
   "execution_count": null,
   "id": "3c50217c-d068-4f4f-b672-40aa699fe2d3",
   "metadata": {},
   "outputs": [],
   "source": []
  }
 ],
 "metadata": {
  "kernelspec": {
   "display_name": "Python 3 (ipykernel)",
   "language": "python",
   "name": "python3"
  },
  "language_info": {
   "codemirror_mode": {
    "name": "ipython",
    "version": 3
   },
   "file_extension": ".py",
   "mimetype": "text/x-python",
   "name": "python",
   "nbconvert_exporter": "python",
   "pygments_lexer": "ipython3",
   "version": "3.9.13"
  }
 },
 "nbformat": 4,
 "nbformat_minor": 5
}
