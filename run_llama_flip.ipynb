{
 "cells": [
  {
   "cell_type": "code",
   "execution_count": 92,
   "id": "96a1dda6-2e66-4035-a7a3-982163299b76",
   "metadata": {},
   "outputs": [
    {
     "name": "stdout",
     "output_type": "stream",
     "text": [
      "> initializing model parallel with size 1\n",
      "> initializing ddp with size 1\n",
      "> initializing pipeline with size 1\n",
      "Loading\n",
      "normalizer.cc(51) LOG(INFO) precompiled_charsmap is empty. use identity normalization.\n",
      "Loaded in 7.99 seconds\n",
      "100%|█████████████████████████████████████████| 313/313 [22:11<00:00,  4.25s/it]\n",
      "100%|███████████████████████████████████████████| 32/32 [02:15<00:00,  4.23s/it]\n",
      "100%|███████████████████████████████████████████| 32/32 [02:15<00:00,  4.22s/it]\n"
     ]
    }
   ],
   "source": [
    "!torchrun --nproc_per_node 1 flip_ms_with_llama.py --ckpt_dir \"../llama/data/7B\" --temperature 1.0 --tokenizer_path \"../llama/data/tokenizer.model\""
   ]
  }
 ],
 "metadata": {
  "kernelspec": {
   "display_name": "Python 3 (ipykernel)",
   "language": "python",
   "name": "python3"
  },
  "language_info": {
   "codemirror_mode": {
    "name": "ipython",
    "version": 3
   },
   "file_extension": ".py",
   "mimetype": "text/x-python",
   "name": "python",
   "nbconvert_exporter": "python",
   "pygments_lexer": "ipython3",
   "version": "3.9.16"
  }
 },
 "nbformat": 4,
 "nbformat_minor": 5
}
