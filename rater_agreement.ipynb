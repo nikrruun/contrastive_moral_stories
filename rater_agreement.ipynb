{
 "cells": [
  {
   "cell_type": "code",
   "execution_count": 3,
   "id": "f739f92d-0b9c-4a32-ad82-d6d8789a2eaf",
   "metadata": {},
   "outputs": [],
   "source": [
    "import krippendorff\n",
    "import numpy as np"
   ]
  },
  {
   "cell_type": "code",
   "execution_count": 4,
   "id": "641c8fef-4834-44eb-8469-b3ac1af83d16",
   "metadata": {
    "jupyter": {
     "source_hidden": true
    },
    "tags": []
   },
   "outputs": [],
   "source": [
    "# copied from rater files\n",
    "data = '''1\t1\t1\n",
    "1\t0\t1\n",
    "1\t1\t1\n",
    "1\t1\t1\n",
    "1\t1\t1\n",
    "1\t1\t1\n",
    "1\t1\t1\n",
    "1\t1\t1\n",
    "1\t1\t1\n",
    "1\t1\t1\n",
    "1\t1\t1\n",
    "1\t1\t1\n",
    "1\t1\t1\n",
    "1\t1\t1\n",
    "1\t1\t1\n",
    "1\t1\t1\n",
    "0\t1\t0\n",
    "1\t1\t1\n",
    "1\t1\t1\n",
    "1\t1\t1\n",
    "1\t1\t1\n",
    "1\t1\t1\n",
    "1\t1\t1\n",
    "1\t1\t1\n",
    "1\t1\t1\n",
    "1\t1\t1\n",
    "1\t1\t1\n",
    "1\t1\t1\n",
    "1\t1\t1\n",
    "1\t1\t1\n",
    "1\t1\t1\n",
    "1\t1\t1\n",
    "1\t1\t1\n",
    "1\t1\t1\n",
    "1\t1\t1\n",
    "0\t1\t1\n",
    "1\t1\t1\n",
    "1\t1\t1\n",
    "1\t1\t1\n",
    "1\t1\t1\n",
    "0\t1\t1\n",
    "1\t1\t1\n",
    "1\t1\t1\n",
    "0\t1\t1\n",
    "1\t1\t1\n",
    "1\t1\t1\n",
    "1\t1\t1\n",
    "1\t1\t1\n",
    "1\t1\t1\n",
    "1\t1\t1\n",
    "1\t0\t1\n",
    "1\t1\t1\n",
    "1\t1\t0\n",
    "1\t1\t0\n",
    "1\t1\t1\n",
    "1\t1\t1\n",
    "1\t1\t1\n",
    "1\t1\t1\n",
    "1\t1\t1\n",
    "0\t1\t1\n",
    "1\t1\t0\n",
    "1\t1\t0\n",
    "1\t1\t1\n",
    "1\t1\t1\n",
    "1\t0\t0\n",
    "1\t1\t1\n",
    "1\t1\t1\n",
    "1\t1\t1\n",
    "1\t1\t1\n",
    "0\t1\t1\n",
    "1\t1\t1\n",
    "1\t1\t1\n",
    "1\t1\t1\n",
    "1\t1\t1\n",
    "0\t0\t0\n",
    "1\t1\t1\n",
    "1\t1\t1\n",
    "1\t1\t1\n",
    "1\t1\t1\n",
    "1\t1\t1\n",
    "1\t1\t1\n",
    "1\t1\t1\n",
    "1\t1\t1\n",
    "1\t1\t1\n",
    "0\t0\t0\n",
    "1\t1\t1\n",
    "1\t1\t1\n",
    "1\t1\t1\n",
    "1\t1\t1\n",
    "1\t1\t1\n",
    "1\t1\t1\n",
    "1\t1\t1\n",
    "1\t1\t1\n",
    "1\t1\t1\n",
    "1\t1\t1\n",
    "0\t1\t1\n",
    "1\t1\t1\n",
    "1\t1\t1\n",
    "1\t1\t1\n",
    "1\t1\t1\n",
    "1\t1\t1\n",
    "1\t1\t1\n",
    "1\t1\t1\n",
    "1\t1\t1\n",
    "1\t1\t1\n",
    "1\t1\t1\n",
    "1\t1\t1\n",
    "0\t1\t1\n",
    "1\t1\t1\n",
    "1\t1\t1\n",
    "1\t1\t1\n",
    "0\t1\t1\n",
    "1\t1\t1\n",
    "1\t1\t1\n",
    "1\t1\t1\n",
    "1\t1\t1\n",
    "1\t1\t1\n",
    "1\t1\t1\n",
    "1\t1\t1\n",
    "1\t1\t1\n",
    "1\t1\t1\n",
    "1\t1\t1\n",
    "1\t1\t1\n",
    "1\t1\t1\n",
    "1\t1\t1\n",
    "1\t1\t1\n",
    "1\t1\t1\n",
    "1\t1\t1\n",
    "1\t1\t1\n",
    "1\t1\t1\n",
    "1\t1\t1\n",
    "1\t1\t1\n",
    "1\t1\t1\n",
    "1\t1\t1\n",
    "1\t1\t1\n",
    "1\t0\t1\n",
    "1\t1\t1\n",
    "1\t1\t1\n",
    "1\t1\t1\n",
    "1\t1\t1\n",
    "1\t1\t1\n",
    "1\t1\t0\n",
    "1\t1\t1\n",
    "1\t1\t1\n",
    "1\t1\t1\n",
    "1\t1\t1\n",
    "1\t1\t1\n",
    "1\t1\t1\n",
    "1\t1\t1\n",
    "1\t1\t1\n",
    "1\t1\t1\n",
    "1\t1\t1\n",
    "1\t1\t1\n",
    "1\t1\t1\n",
    "1\t1\t1\n",
    "1\t1\t1\n",
    "1\t1\t1\n",
    "1\t1\t1\n",
    "1\t1\t1\n",
    "1\t1\t1\n",
    "1\t1\t1\n",
    "1\t1\t1\n",
    "1\t1\t1\n",
    "1\t1\t1\n",
    "1\t1\t1\n",
    "1\t1\t1\n",
    "1\t1\t1\n",
    "1\t1\t1\n",
    "1\t1\t1\n",
    "1\t1\t1\n",
    "1\t1\t1\n",
    "1\t1\t1\n",
    "1\t1\t1\n",
    "1\t1\t1\n",
    "1\t1\t1\n",
    "1\t1\t1\n",
    "1\t1\t1\n",
    "1\t1\t1\n",
    "1\t1\t0\n",
    "1\t1\t1\n",
    "1\t1\t1\n",
    "1\t1\t1\n",
    "0\t0\t1\n",
    "1\t1\t1\n",
    "1\t1\t1\n",
    "1\t1\t1\n",
    "1\t1\t1\n",
    "1\t1\t1\n",
    "1\t1\t1\n",
    "1\t1\t1\n",
    "1\t1\t1\n",
    "0\t1\t1\n",
    "1\t1\t1\n",
    "1\t1\t1\n",
    "1\t1\t1\n",
    "1\t1\t1\n",
    "1\t1\t1\n",
    "1\t1\t1\n",
    "1\t1\t1\n",
    "1\t1\t1'''\n",
    "\n",
    "data = np.array([x.split(\"\\t\") for x in data.split(\"\\n\")], dtype=\"int32\")"
   ]
  },
  {
   "cell_type": "code",
   "execution_count": 5,
   "id": "194545a7-a18b-4e2a-851d-95ae96520f7c",
   "metadata": {},
   "outputs": [
    {
     "data": {
      "text/plain": [
       "0.2643859649122807"
      ]
     },
     "execution_count": 5,
     "metadata": {},
     "output_type": "execute_result"
    }
   ],
   "source": [
    "# the heavily skewed data results in poor krippendorff alpha.\n",
    "krippendorff.alpha(data.T, level_of_measurement=\"nominal\")"
   ]
  },
  {
   "cell_type": "code",
   "execution_count": 7,
   "id": "52acc3e0-40cb-4281-983d-34d83d0b34f8",
   "metadata": {},
   "outputs": [
    {
     "name": "stdout",
     "output_type": "stream",
     "text": [
      "0.93\n",
      "0.915\n",
      "0.945\n"
     ]
    }
   ],
   "source": [
    "# pairwise agreements\n",
    "print((data[:,0] == data[:,1]).mean())\n",
    "print((data[:,0] == data[:,2]).mean())\n",
    "print((data[:,1] == data[:,2]).mean())"
   ]
  },
  {
   "cell_type": "code",
   "execution_count": 9,
   "id": "8a0246ef-c8bb-489c-a6e2-c51d3ba3838e",
   "metadata": {},
   "outputs": [
    {
     "name": "stdout",
     "output_type": "stream",
     "text": [
      "0.935\n",
      "0.965\n",
      "0.95\n"
     ]
    }
   ],
   "source": [
    "# average correctness rate\n",
    "print(data[:,0].mean())\n",
    "print(data[:,1].mean())\n",
    "print(data[:,2].mean())"
   ]
  },
  {
   "cell_type": "code",
   "execution_count": 56,
   "id": "9e4906ba-7477-4d8a-8aaa-c4bfe4ed3539",
   "metadata": {},
   "outputs": [
    {
     "data": {
      "text/plain": [
       "0.895"
      ]
     },
     "execution_count": 56,
     "metadata": {},
     "output_type": "execute_result"
    }
   ],
   "source": [
    "# on how many instances did the three raters agree?\n",
    "np.logical_and(data[:,0] == data[:,1], data[:,0] == data[:,2]).mean()"
   ]
  },
  {
   "cell_type": "code",
   "execution_count": 63,
   "id": "fe960ad4-23f9-4faf-a22f-fc79a7b1292b",
   "metadata": {},
   "outputs": [
    {
     "data": {
      "text/plain": [
       "0.95"
      ]
     },
     "execution_count": 63,
     "metadata": {},
     "output_type": "execute_result"
    }
   ],
   "source": [
    "# average correct labels\n",
    "data.mean()"
   ]
  },
  {
   "cell_type": "code",
   "execution_count": null,
   "id": "e5158e0a-f985-4648-82f4-569c2de3f572",
   "metadata": {},
   "outputs": [],
   "source": []
  }
 ],
 "metadata": {
  "kernelspec": {
   "display_name": "Python 3 (ipykernel)",
   "language": "python",
   "name": "python3"
  },
  "language_info": {
   "codemirror_mode": {
    "name": "ipython",
    "version": 3
   },
   "file_extension": ".py",
   "mimetype": "text/x-python",
   "name": "python",
   "nbconvert_exporter": "python",
   "pygments_lexer": "ipython3",
   "version": "3.9.13"
  }
 },
 "nbformat": 4,
 "nbformat_minor": 5
}
