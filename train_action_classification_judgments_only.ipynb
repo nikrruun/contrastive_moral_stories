{
 "cells": [
  {
   "cell_type": "markdown",
   "id": "047f67c2-ba69-415e-be50-9655d4cf2784",
   "metadata": {},
   "source": [
    "# Prepare Experiment & Deepspeed config (**MANDATORY**)\n",
    "***"
   ]
  },
  {
   "cell_type": "code",
   "execution_count": null,
   "id": "b6f9ab32-f86e-4830-ac5f-0b9dcd9fceb6",
   "metadata": {
    "tags": [
     "parameters"
    ]
   },
   "outputs": [],
   "source": [
    "ds_config = {\n",
    "    \"fp16\": {\n",
    "        \"enabled\": \"auto\",\n",
    "        \"loss_scale\": 0,\n",
    "        \"loss_scale_window\": 1000,\n",
    "        \"initial_scale_power\": 16,\n",
    "        \"hysteresis\": 2,\n",
    "        \"min_loss_scale\": 1\n",
    "    },\n",
    "    \"optimizer\": {\n",
    "        \"type\": \"AdamW\",\n",
    "        \"params\": {\n",
    "            \"lr\": \"auto\",\n",
    "            \"betas\": \"auto\",\n",
    "            \"eps\": \"auto\",\n",
    "            \"weight_decay\": \"auto\"\n",
    "        }\n",
    "    },\n",
    "\n",
    "    \"zero_optimization\": {\n",
    "        \"stage\": 2,\n",
    "        \"allgather_partitions\": True,\n",
    "        \"allgather_bucket_size\": 5e8,\n",
    "        \"overlap_comm\": True,\n",
    "        \"reduce_scatter\": True,\n",
    "        \"reduce_bucket_size\": 5e8,\n",
    "        \"contiguous_gradients\": True,\n",
    "        \"offload_optimizer\": {\n",
    "            \"device\": \"none\",\n",
    "        },\n",
    "        \"offload_params\": {\n",
    "            \"device\": \"none\"\n",
    "        },\n",
    "    },\n",
    "    \"gradient_accumulation_steps\": \"auto\",\n",
    "    \"gradient_clipping\": \"auto\",\n",
    "    \"steps_per_print\": 200,\n",
    "    \"train_batch_size\": \"auto\",\n",
    "    \"train_micro_batch_size_per_gpu\": \"auto\",\n",
    "    \"wall_clock_breakdown\": False\n",
    "}\n",
    "\n",
    "training_args = {\n",
    "    \"do_train\": True,\n",
    "    \"do_eval\": True,\n",
    "    \"num_train_epochs\": 4,\n",
    "    \"gradient_accumulation_steps\": 1,\n",
    "    \"per_device_train_batch_size\": 8,\n",
    "    \"per_device_eval_batch_size\": 256,\n",
    "    \"fp16\": True,\n",
    "    \"weight_decay\": 0.0,\n",
    "    \"warmup_steps\": 0,\n",
    "    \"learning_rate\": 1e-5,\n",
    "    \"logging_strategy\": \"epoch\",\n",
    "    \"evaluation_strategy\": \"epoch\",\n",
    "    \"save_strategy\": \"epoch\",\n",
    "    \"save_total_limit\": 1,\n",
    "    \"load_best_model_at_end\": False,\n",
    "    \"metric_for_best_model\": \"eval_accuracy\",\n",
    "    \"greater_is_better\": True,\n",
    "}\n",
    "\n",
    "# usually overriden by external config:\n",
    "num_gpus = 1\n",
    "model_name =\"bert-base-uncased\"\n",
    "block_size = 128\n",
    "logdir = \"data/models/bert-base-uncased/contra_ms/\"\n",
    "override_logdir = True\n",
    "dataset_folder = \"data/contrastive_moral_stories/anti_ms_splits_only/action+norm/norm_distance/\"\n",
    "load_pretrained_weights = True\n",
    "from_checkpoint = None\n",
    "deepspeed = False\n",
    "action_only=False"
   ]
  },
  {
   "cell_type": "code",
   "execution_count": null,
   "id": "28b194b8-be8d-44e3-90dc-27f3fe4d05ce",
   "metadata": {},
   "outputs": [],
   "source": [
    "import os\n",
    "os.environ[\"TOKENIZERS_PARALLELISM\"] = \"false\"\n",
    "os.environ[\"NCCL_P2P_DISABLE\"] = \"1\"\n",
    "#os.environ[\"CUDA_LAUNCH_BLOCKING\"] = \"1\"\n",
    "if not deepspeed:\n",
    "    pass\n",
    "    os.environ[\"CUDA_VISIBLE_DEVICES\"] = \"1\"\n",
    "\n",
    "import numpy as np\n",
    "import pandas as pd\n",
    "from datasets import load_dataset\n",
    "import time\n",
    "from transformers import AutoTokenizer, AutoModelForSequenceClassification, AutoConfig\n",
    "import datasets\n",
    "from transformers import Trainer, TrainingArguments\n",
    "\n",
    "pd.set_option('display.max_colwidth', 400)"
   ]
  },
  {
   "cell_type": "markdown",
   "id": "6193ccdf-bc57-42e5-9b21-ade4db40bee5",
   "metadata": {},
   "source": [
    "# Tokenize the dataset\n",
    "***"
   ]
  },
  {
   "cell_type": "code",
   "execution_count": null,
   "id": "0c3be102-901c-4946-8e8e-3411f5a47daa",
   "metadata": {},
   "outputs": [],
   "source": [
    "training_args = TrainingArguments(\n",
    "    output_dir=logdir,\n",
    "    overwrite_output_dir=override_logdir,\n",
    "    logging_dir=logdir,\n",
    "    deepspeed= logdir + \"/ds_config.json\" if deepspeed else None,\n",
    "    report_to=\"tensorboard\",\n",
    "    **training_args\n",
    ")"
   ]
  },
  {
   "cell_type": "code",
   "execution_count": null,
   "id": "e2c709d7-c6a8-4ac4-9280-9b3066705abd",
   "metadata": {
    "tags": []
   },
   "outputs": [],
   "source": [
    "if \"Eleuther\" in model_name:\n",
    "    tokenizer = AutoTokenizer.from_pretrained(model_name, bos_token='<|startoftext|>', \n",
    "                                          eos_token='<|endoftext|>', pad_token='<|pad|>')\n",
    "else:\n",
    "    tokenizer = AutoTokenizer.from_pretrained(model_name)"
   ]
  },
  {
   "cell_type": "code",
   "execution_count": null,
   "id": "3bc650c7-9893-4cbe-8b8f-40c976e3a826",
   "metadata": {},
   "outputs": [],
   "source": [
    "t = pd.read_json(dataset_folder+\"train.jsonl\", lines=True)\n",
    "t.head(1)"
   ]
  },
  {
   "cell_type": "code",
   "execution_count": null,
   "id": "7ffca712-77e3-4491-8218-9cd492342c76",
   "metadata": {},
   "outputs": [],
   "source": [
    "def load_action_norm_split(path):\n",
    "    train, dev, test = [pd.read_json(f\"{path}{x}.jsonl\", lines=True) for x in [\"train\", \"dev\", \"test\"]]\n",
    "\n",
    "    # construct dataframes that can actually be used\n",
    "    assign_action = lambda x: x[\"moral_action\"] if x[\"label\"] == 1 else x[\"immoral_action\"]\n",
    "    train[\"action\"] = train.apply(assign_action, axis=1)\n",
    "    dev[\"action\"] = dev.apply(assign_action, axis=1)\n",
    "    test[\"action\"] = test.apply(assign_action, axis=1)\n",
    "\n",
    "    subset = [\"flipped-rot-judgment\", \"action\", \"label\"]\n",
    "    train = train[subset]\n",
    "    dev = dev[subset]\n",
    "    test = test[subset]\n",
    "    return train, dev, test\n",
    "\n",
    "train, dev, test = load_action_norm_split(dataset_folder)\n",
    "\n",
    "dataset = datasets.DatasetDict()\n",
    "dataset[\"train\"] = datasets.Dataset.from_pandas(train)\n",
    "dataset[\"dev\"] = datasets.Dataset.from_pandas(dev)\n",
    "dataset[\"test\"] = datasets.Dataset.from_pandas(test)"
   ]
  },
  {
   "cell_type": "code",
   "execution_count": null,
   "id": "3119c029-6f78-4b9e-bf5d-7a2e722232f3",
   "metadata": {},
   "outputs": [],
   "source": [
    "def tokenize(samples):\n",
    "    if action_only:\n",
    "        return tokenizer(samples[\"action\"], truncation=True, padding=\"max_length\", max_length=block_size)\n",
    "    else:\n",
    "        return tokenizer(samples[\"action\"], samples[\"flipped-rot-judgment\"], truncation=True, padding=\"max_length\", max_length=block_size)\n",
    "\n",
    "tokenized_data = dataset.map(tokenize, batched=True, batch_size=10000).shuffle()\n",
    "#tokenized_data.save_to_disk(\"data/tokenized_data/\")"
   ]
  },
  {
   "cell_type": "markdown",
   "id": "52a8cb7c-de02-4e36-bd84-d422d42dce04",
   "metadata": {},
   "source": [
    "# Load the model"
   ]
  },
  {
   "cell_type": "code",
   "execution_count": null,
   "id": "d9963960-f5f4-46c1-852c-3cec290c2a98",
   "metadata": {},
   "outputs": [],
   "source": [
    "if from_checkpoint is None:\n",
    "    path = model_name\n",
    "else:\n",
    "    if from_checkpoint in {\"first\", \"last\"}:\n",
    "        ckpts = [x for x in os.listdir(logdir) if x.startswith(\"checkpoint\")]\n",
    "        ckpts = sorted(ckpts, key=lambda x: int(x.split(\"-\")[1]))\n",
    "        ckpt = ckpts[0 if from_checkpoint == \"first\" else -1]\n",
    "        print(\"ATTEMPTING TO LOAD CHECKPOINT\", os.path.join(logdir, ckpt))\n",
    "        path = os.path.join(logdir, ckpt)\n",
    "    elif from_checkpoint == \"no-pretraining\":\n",
    "        # TODO\n",
    "        raise NotImplementedError()\n",
    "    else:\n",
    "        path = from_checkpoint\n",
    "\n",
    "model = AutoModelForSequenceClassification.from_pretrained(path, num_labels=2)\n"
   ]
  },
  {
   "cell_type": "markdown",
   "id": "cc523063-8995-46bc-bfe1-69fd8defb637",
   "metadata": {},
   "source": [
    "# Prepare Trainer\n",
    "***"
   ]
  },
  {
   "cell_type": "code",
   "execution_count": null,
   "id": "978849a5-1ba8-4833-9130-383f4a2efc98",
   "metadata": {},
   "outputs": [],
   "source": [
    "from datasets import load_metric\n",
    "metric = load_metric('accuracy')\n",
    "\n",
    "def compute_metrics(eval_pred):\n",
    "    predictions, labels = eval_pred\n",
    "    predictions = np.argmax(predictions, axis=1)\n",
    "    return metric.compute(predictions=predictions, references=labels)"
   ]
  },
  {
   "cell_type": "code",
   "execution_count": null,
   "id": "d0c051ce-e7af-4001-be2e-37da8d3b4acc",
   "metadata": {},
   "outputs": [],
   "source": [
    "trainer = Trainer(\n",
    "    model=model,\n",
    "    args=training_args,\n",
    "    train_dataset=tokenized_data[\"train\"] if training_args.do_train else None,\n",
    "    eval_dataset=tokenized_data[\"dev\"] if training_args.do_train else None,\n",
    "    compute_metrics=compute_metrics,\n",
    ")"
   ]
  },
  {
   "cell_type": "code",
   "execution_count": null,
   "id": "f9e31999-8117-4d12-818c-d45cbdaa4344",
   "metadata": {},
   "outputs": [],
   "source": [
    "if training_args.do_train:\n",
    "    trainer.train()"
   ]
  },
  {
   "cell_type": "code",
   "execution_count": null,
   "id": "2f000087-3136-4775-9d23-389131260225",
   "metadata": {},
   "outputs": [],
   "source": [
    "if training_args.do_eval:\n",
    "    for split, data in tokenized_data.items():\n",
    "        r = trainer.evaluate(data, metric_key_prefix=f\"test_{split}\")"
   ]
  }
 ],
 "metadata": {
  "kernelspec": {
   "display_name": "Python 3 (ipykernel)",
   "language": "python",
   "name": "python3"
  },
  "language_info": {
   "codemirror_mode": {
    "name": "ipython",
    "version": 3
   },
   "file_extension": ".py",
   "mimetype": "text/x-python",
   "name": "python",
   "nbconvert_exporter": "python",
   "pygments_lexer": "ipython3",
   "version": "3.9.13"
  }
 },
 "nbformat": 4,
 "nbformat_minor": 5
}
