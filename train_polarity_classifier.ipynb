{
 "cells": [
  {
   "cell_type": "markdown",
   "id": "047f67c2-ba69-415e-be50-9655d4cf2784",
   "metadata": {},
   "source": [
    "# Prepare Experiment & Deepspeed config (**MANDATORY**)\n",
    "***"
   ]
  },
  {
   "cell_type": "code",
   "execution_count": null,
   "id": "b6f9ab32-f86e-4830-ac5f-0b9dcd9fceb6",
   "metadata": {
    "tags": [
     "parameters"
    ]
   },
   "outputs": [],
   "source": [
    "ds_config = {\n",
    "    \"fp16\": {\n",
    "        \"enabled\": \"auto\",\n",
    "        \"loss_scale\": 0,\n",
    "        \"loss_scale_window\": 1000,\n",
    "        \"initial_scale_power\": 16,\n",
    "        \"hysteresis\": 2,\n",
    "        \"min_loss_scale\": 1\n",
    "    },\n",
    "    \"optimizer\": {\n",
    "        \"type\": \"AdamW\",\n",
    "        \"params\": {\n",
    "            \"lr\": \"auto\",\n",
    "            \"betas\": \"auto\",\n",
    "            \"eps\": \"auto\",\n",
    "            \"weight_decay\": \"auto\"\n",
    "        }\n",
    "    },\n",
    "\n",
    "    \"zero_optimization\": {\n",
    "        \"stage\": 2,\n",
    "        \"allgather_partitions\": True,\n",
    "        \"allgather_bucket_size\": 5e8,\n",
    "        \"overlap_comm\": True,\n",
    "        \"reduce_scatter\": True,\n",
    "        \"reduce_bucket_size\": 5e8,\n",
    "        \"contiguous_gradients\": True,\n",
    "        \"offload_optimizer\": {\n",
    "            \"device\": \"none\",\n",
    "        },\n",
    "        \"offload_params\": {\n",
    "            \"device\": \"none\"\n",
    "        },\n",
    "    },\n",
    "    \"gradient_accumulation_steps\": \"auto\",\n",
    "    \"gradient_clipping\": \"auto\",\n",
    "    \"steps_per_print\": 200,\n",
    "    \"train_batch_size\": \"auto\",\n",
    "    \"train_micro_batch_size_per_gpu\": \"auto\",\n",
    "    \"wall_clock_breakdown\": False\n",
    "}\n",
    "\n",
    "training_args = {\n",
    "    \"num_train_epochs\": 4,\n",
    "    \"gradient_accumulation_steps\": 1,\n",
    "    \"per_device_train_batch_size\": 128,\n",
    "    \"per_device_eval_batch_size\": 256,\n",
    "    \"fp16\": True,\n",
    "    \"weight_decay\": 0.0,\n",
    "    \"warmup_steps\": 0,\n",
    "    \"learning_rate\": 1e-5,\n",
    "    \"logging_strategy\": \"epoch\",\n",
    "    \"evaluation_strategy\": \"epoch\",\n",
    "    \"save_strategy\": \"epoch\",\n",
    "    \"save_total_limit\": 1,\n",
    "    \"load_best_model_at_end\": True,\n",
    "    \"metric_for_best_model\": \"eval_accuracy\",\n",
    "    \"greater_is_better\": True,\n",
    "}\n",
    "\n",
    "# usually overriden by external config:\n",
    "num_gpus = 1\n",
    "model_name =\"bert-base-uncased\"\n",
    "block_size = 128\n",
    "logdir = \"data/models/bert-base-uncased/polarity_classifier/\"\n",
    "override_logdir = True"
   ]
  },
  {
   "cell_type": "code",
   "execution_count": null,
   "id": "28b194b8-be8d-44e3-90dc-27f3fe4d05ce",
   "metadata": {},
   "outputs": [],
   "source": [
    "import os\n",
    "os.environ[\"TOKENIZERS_PARALLELISM\"] = \"false\"\n",
    "\n",
    "import numpy as np\n",
    "import pandas as pd\n",
    "from datasets import load_dataset\n",
    "import time\n",
    "from transformers import AutoTokenizer, AutoModelForSequenceClassification\n",
    "import datasets\n",
    "from transformers import Trainer, TrainingArguments"
   ]
  },
  {
   "cell_type": "markdown",
   "id": "6193ccdf-bc57-42e5-9b21-ade4db40bee5",
   "metadata": {},
   "source": [
    "# Tokenize the dataset\n",
    "***"
   ]
  },
  {
   "cell_type": "code",
   "execution_count": null,
   "id": "e2c709d7-c6a8-4ac4-9280-9b3066705abd",
   "metadata": {
    "tags": []
   },
   "outputs": [],
   "source": [
    "if \"Eleuther\" in model_name:\n",
    "    tokenizer = AutoTokenizer.from_pretrained(model_name, bos_token='<|startoftext|>', \n",
    "                                          eos_token='<|endoftext|>', pad_token='<|pad|>')\n",
    "else:\n",
    "    tokenizer = AutoTokenizer.from_pretrained(model_name)"
   ]
  },
  {
   "cell_type": "code",
   "execution_count": null,
   "id": "faaf667f-472b-4027-8781-b030a953c031",
   "metadata": {},
   "outputs": [],
   "source": [
    "def load_social_chem101():\n",
    "    a = pd.read_csv(\"data/social-chem-101/social-chem-101.v1.0.tsv\", sep=\"\\t\")\n",
    "    return a\n",
    "\n",
    "social_chem = load_social_chem101()\n",
    "social_chem = social_chem[social_chem[\"split\"] == \"train\"]\n",
    "social_chem = social_chem.dropna(subset=[\"rot-categorization\", \"rot-judgment\", \"action\", \"rot-agree\", \"action-moral-judgment\"])\n",
    "social_chem = social_chem[social_chem[\"rot-agree\"] >= 3.0]\n",
    "social_chem = social_chem[social_chem[\"rot-bad\"] == 0]\n",
    "social_chem = social_chem[social_chem[\"rot-categorization\"].apply(lambda x: \"morality-ethics\" in x or \"social-norms\" in x)]\n",
    "social_chem = social_chem[social_chem[\"rot-judgment\"].apply(lambda x: \"{\" not in x)]"
   ]
  },
  {
   "cell_type": "code",
   "execution_count": null,
   "id": "7ffca712-77e3-4491-8218-9cd492342c76",
   "metadata": {},
   "outputs": [],
   "source": [
    "def load_action_norm_split(path):\n",
    "    train, dev, test = [pd.read_json(f\"{path}{x}.jsonl\", lines=True) for x in [\"train\", \"dev\", \"test\"]]\n",
    "\n",
    "    # construct dataframes that can actually be used\n",
    "    assign_action = lambda x: x[\"moral_action\"] if x[\"label\"] == 1 else x[\"immoral_action\"]\n",
    "    train[\"action\"] = train.apply(assign_action, axis=1)\n",
    "    dev[\"action\"] = dev.apply(assign_action, axis=1)\n",
    "    test[\"action\"] = test.apply(assign_action, axis=1)\n",
    "    return train, dev, test\n",
    "\n",
    "# used for testing\n",
    "train, dev, test = load_action_norm_split(\"data/contrastive_moral_stories/original_ms/action+norm/norm_distance/\")\n",
    "opt_train, opt_dev, opt_test = load_action_norm_split(\"data/contrastive_moral_stories/optional_ms/action+norm/norm_distance/\")\n",
    "anti_train, anti_dev, anti_test = load_action_norm_split(\"data/contrastive_moral_stories/anti_ms/action+norm/norm_distance/\")\n",
    "#contra_train, contra_dev, contra_test = load_action_norm_split(\"data/contrastive_moral_stories/contra_ms/action+norm/norm_distance/\")"
   ]
  },
  {
   "cell_type": "code",
   "execution_count": null,
   "id": "d95850bc-2514-4fee-9636-98470b6413fb",
   "metadata": {},
   "outputs": [],
   "source": [
    "# we need labels for the norms...\n",
    "# obligatories: 1\n",
    "# impermissibles: 0\n",
    "# neutral: 2\n",
    "\n",
    "test = test.drop_duplicates(\"norm\").merge(social_chem, left_on=\"norm\", right_on=\"rot\").drop_duplicates(\"norm\")[[\"ID\", \"norm\", \"action-moral-judgment\"]]\n",
    "test[\"label\"] = (test[\"action-moral-judgment\"] > 0).astype(\"int\")\n",
    "\n",
    "anti_test = anti_test.drop_duplicates(\"norm\").merge(test[[\"ID\", \"action-moral-judgment\"]], on=\"ID\")\n",
    "\n",
    "anti_test[\"action-moral-judgment\"] = anti_test[\"action-moral-judgment\"].apply(lambda x: -1 * x)\n",
    "anti_test = anti_test[[\"ID\", \"norm\", \"action-moral-judgment\"]]\n",
    "# positive judgment implies obligatory norms...\n",
    "anti_test[\"label\"] = (anti_test[\"action-moral-judgment\"] > 0).astype(\"int\")\n",
    "\n",
    "t = set(anti_test[\"ID\"])\n",
    "opt_test = opt_test[opt_test[\"ID\"].apply(lambda x: x in t)][[\"ID\", \"norm\"]]\n",
    "opt_test[\"label\"] = 2"
   ]
  },
  {
   "cell_type": "code",
   "execution_count": null,
   "id": "3231e98e-2489-4665-a0bf-78bb513acc88",
   "metadata": {},
   "outputs": [],
   "source": [
    "# load training data\n",
    "impermissible_sc101 = pd.read_csv(\"data/operator_mappings/impermissible_sc101.csv\")\n",
    "obligatory_sc101 = pd.read_csv(\"data/operator_mappings/obligatory_sc101.csv\")\n",
    "optional_sc101 = pd.read_csv(\"data/operator_mappings/optional_sc101.csv\")"
   ]
  },
  {
   "cell_type": "markdown",
   "id": "39af9bc4-af31-43d7-803f-003863dddbeb",
   "metadata": {},
   "source": [
    "# Train polarity classifier\n",
    "***"
   ]
  },
  {
   "cell_type": "code",
   "execution_count": null,
   "id": "dbbc6395-11ae-4872-9b01-e0d208d11520",
   "metadata": {},
   "outputs": [],
   "source": [
    "obligatory_sc101[\"label\"] = 1\n",
    "impermissible_sc101[\"label\"] = 0\n",
    "optional_sc101[\"label\"] = 2\n",
    "subset = [\"rot\", \"label\"]\n",
    "obligatory = obligatory_sc101[subset]\n",
    "impermissible = impermissible_sc101[subset]\n",
    "optional = optional_sc101[subset]\n",
    "\n",
    "polarity_data = pd.concat([obligatory, impermissible, optional], axis=0)\n",
    "polarity_data = polarity_data.rename(columns={\"rot\":\"norm\"})\n",
    "print(f\"Found {len(polarity_data)} polarity examples\")\n",
    "\n",
    "dataset = datasets.DatasetDict()\n",
    "dataset[\"train\"] = datasets.Dataset.from_pandas(polarity_data)\n",
    "dataset[\"original_ms\"] = datasets.Dataset.from_pandas(test)\n",
    "dataset[\"anti_ms\"] = datasets.Dataset.from_pandas(anti_test)\n",
    "dataset[\"optional_ms\"] = datasets.Dataset.from_pandas(opt_test)"
   ]
  },
  {
   "cell_type": "code",
   "execution_count": null,
   "id": "3119c029-6f78-4b9e-bf5d-7a2e722232f3",
   "metadata": {},
   "outputs": [],
   "source": [
    "def tokenize(samples):\n",
    "    return tokenizer(samples[\"norm\"], truncation=True, padding=\"max_length\", max_length=block_size)\n",
    "\n",
    "tokenized_data = dataset.map(tokenize, batched=True, batch_size=10000).shuffle()"
   ]
  },
  {
   "cell_type": "markdown",
   "id": "52a8cb7c-de02-4e36-bd84-d422d42dce04",
   "metadata": {},
   "source": [
    "# Load the model"
   ]
  },
  {
   "cell_type": "code",
   "execution_count": null,
   "id": "d9963960-f5f4-46c1-852c-3cec290c2a98",
   "metadata": {},
   "outputs": [],
   "source": [
    "model = AutoModelForSequenceClassification.from_pretrained(model_name, num_labels=3)\n",
    "\n",
    "model.resize_token_embeddings(len(tokenizer))\n",
    "\n",
    "if model.config.pad_token_id is None:\n",
    "    model.config.pad_token_id = tokenizer.pad_token_id"
   ]
  },
  {
   "cell_type": "markdown",
   "id": "cc523063-8995-46bc-bfe1-69fd8defb637",
   "metadata": {},
   "source": [
    "# Prepare Trainer\n",
    "***"
   ]
  },
  {
   "cell_type": "code",
   "execution_count": null,
   "id": "d20433c0-600e-4f92-8a17-2daac9946753",
   "metadata": {},
   "outputs": [],
   "source": [
    "# TODO: move down to training section\n",
    "training_args = TrainingArguments(\n",
    "    output_dir=logdir,\n",
    "    overwrite_output_dir=override_logdir,\n",
    "    logging_dir=logdir,\n",
    "    deepspeed= logdir + \"/ds_config.json\",\n",
    "    report_to=\"tensorboard\",\n",
    "    **training_args\n",
    ")"
   ]
  },
  {
   "cell_type": "code",
   "execution_count": null,
   "id": "978849a5-1ba8-4833-9130-383f4a2efc98",
   "metadata": {},
   "outputs": [],
   "source": [
    "from datasets import load_metric\n",
    "metric = load_metric('accuracy')\n",
    "\n",
    "def compute_metrics(eval_pred):\n",
    "    predictions, labels = eval_pred\n",
    "    predictions = np.argmax(predictions, axis=1)\n",
    "    return metric.compute(predictions=predictions, references=labels)"
   ]
  },
  {
   "cell_type": "code",
   "execution_count": null,
   "id": "d0c051ce-e7af-4001-be2e-37da8d3b4acc",
   "metadata": {},
   "outputs": [],
   "source": [
    "trainer = Trainer(\n",
    "    model=model,\n",
    "    args=training_args,\n",
    "    train_dataset=tokenized_data[\"train\"],\n",
    "    eval_dataset=tokenized_data[\"original_ms\"],\n",
    "    compute_metrics=compute_metrics,\n",
    ")"
   ]
  },
  {
   "cell_type": "code",
   "execution_count": null,
   "id": "f9e31999-8117-4d12-818c-d45cbdaa4344",
   "metadata": {},
   "outputs": [],
   "source": [
    "trainer.train()"
   ]
  },
  {
   "cell_type": "code",
   "execution_count": null,
   "id": "e65dc7bd-74ed-411a-b095-e9d12dd6f58e",
   "metadata": {},
   "outputs": [],
   "source": [
    "for split in [\"original_ms\", \"anti_ms\", \"optional_ms\"]:\n",
    "    trainer.evaluate(tokenized_data[split], metric_key_prefix=split)"
   ]
  }
 ],
 "metadata": {
  "kernelspec": {
   "display_name": "Python 3 (ipykernel)",
   "language": "python",
   "name": "python3"
  },
  "language_info": {
   "codemirror_mode": {
    "name": "ipython",
    "version": 3
   },
   "file_extension": ".py",
   "mimetype": "text/x-python",
   "name": "python",
   "nbconvert_exporter": "python",
   "pygments_lexer": "ipython3",
   "version": "3.9.13"
  }
 },
 "nbformat": 4,
 "nbformat_minor": 5
}
